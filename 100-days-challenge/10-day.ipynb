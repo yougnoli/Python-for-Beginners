{
 "cells": [
  {
   "cell_type": "markdown",
   "metadata": {},
   "source": [
    "#### Funzioni con output"
   ]
  },
  {
   "cell_type": "code",
   "execution_count": 1,
   "metadata": {},
   "outputs": [],
   "source": [
    "def my_function():\n",
    "    result = 3*2\n",
    "    return result"
   ]
  },
  {
   "cell_type": "markdown",
   "metadata": {},
   "source": [
    "Con il **return** quando chiamo la funzione posso assegnarla a una variabile. "
   ]
  },
  {
   "cell_type": "code",
   "execution_count": 3,
   "metadata": {},
   "outputs": [
    {
     "name": "stdout",
     "output_type": "stream",
     "text": [
      "6\n"
     ]
    },
    {
     "data": {
      "text/plain": [
       "int"
      ]
     },
     "execution_count": 3,
     "metadata": {},
     "output_type": "execute_result"
    }
   ],
   "source": [
    "output = my_function()\n",
    "print(output)\n",
    "type(output)"
   ]
  },
  {
   "cell_type": "code",
   "execution_count": 4,
   "metadata": {},
   "outputs": [],
   "source": [
    "# funzione che prende come input 2 stringhe: nome e cognome. Deve restituire 2 variabili con nome e cognome in Title Case.\n",
    "def format_name(f_name, l_name):\n",
    "    firstname = f_name[0].upper() + f_name[1:].lower()\n",
    "    lastname = l_name[0].upper() + l_name[1:].lower()\n",
    "    fullname = firstname + ' ' + lastname\n",
    "    return fullname"
   ]
  },
  {
   "cell_type": "code",
   "execution_count": 6,
   "metadata": {},
   "outputs": [
    {
     "data": {
      "text/plain": [
       "'Alessio Tugnoli'"
      ]
     },
     "execution_count": 6,
     "metadata": {},
     "output_type": "execute_result"
    }
   ],
   "source": [
    "format_name('alessio', 'TUGNOLI')"
   ]
  },
  {
   "cell_type": "code",
   "execution_count": 7,
   "metadata": {},
   "outputs": [],
   "source": [
    "# oppure con il metodo .title()\n",
    "def format_name2(f_name, l_name):\n",
    "    fullname = f_name + ' ' + l_name\n",
    "    return fullname.title()"
   ]
  },
  {
   "cell_type": "code",
   "execution_count": 9,
   "metadata": {},
   "outputs": [
    {
     "name": "stdout",
     "output_type": "stream",
     "text": [
      "Alessio Tugnoli\n"
     ]
    },
    {
     "data": {
      "text/plain": [
       "str"
      ]
     },
     "execution_count": 9,
     "metadata": {},
     "output_type": "execute_result"
    }
   ],
   "source": [
    "full_name = format_name2('alessio', 'TUGNOLI')\n",
    "print(full_name)\n",
    "type(full_name)"
   ]
  },
  {
   "cell_type": "code",
   "execution_count": 10,
   "metadata": {},
   "outputs": [],
   "source": [
    "# è quello che avviene quando assegno a una variabile il conteggio della funzione len()\n",
    "num_letters = len(full_name)\n",
    "# output = funzione(input)§"
   ]
  },
  {
   "cell_type": "markdown",
   "metadata": {},
   "source": [
    "Cosa succede se avessimo più di un return dentro alla funzione? Python capisce che è arrivato alla fine della funzione quando vede un return."
   ]
  },
  {
   "cell_type": "code",
   "execution_count": 11,
   "metadata": {},
   "outputs": [],
   "source": [
    "def format_name3(f_name, l_name):\n",
    "    fullname = f_name + ' ' + l_name\n",
    "    return fullname.title() # fine della funzione. Esce.\n",
    "    print(\"This is a print\") # questa linea di codice non verrà mai eseguita"
   ]
  },
  {
   "cell_type": "code",
   "execution_count": 16,
   "metadata": {},
   "outputs": [
    {
     "data": {
      "text/plain": [
       "'Alessio Tugnoli'"
      ]
     },
     "execution_count": 16,
     "metadata": {},
     "output_type": "execute_result"
    }
   ],
   "source": [
    "format_name3('alessio', 'TUGNOLI') # infatti non viene eseguita"
   ]
  },
  {
   "cell_type": "code",
   "execution_count": 17,
   "metadata": {},
   "outputs": [],
   "source": [
    "# ora voglio avere più di un return, nel caso qualcuno non inserisse nulla nella funzione, provo prima cosa succede adesso:\n",
    "def format_name2(f_name, l_name):\n",
    "    fullname = f_name + ' ' + l_name\n",
    "    return fullname.title()"
   ]
  },
  {
   "cell_type": "code",
   "execution_count": 28,
   "metadata": {},
   "outputs": [
    {
     "data": {
      "text/plain": [
       "' '"
      ]
     },
     "execution_count": 28,
     "metadata": {},
     "output_type": "execute_result"
    }
   ],
   "source": [
    "format_name2('','') # mi restituisce solo lo spazio tra nome e cognome"
   ]
  },
  {
   "cell_type": "code",
   "execution_count": 24,
   "metadata": {},
   "outputs": [],
   "source": [
    "def format_name4(f_name, l_name):\n",
    "    if f_name == '' or l_name == '':\n",
    "        return\n",
    "    fullname = f_name + ' ' + l_name\n",
    "    return fullname.title()"
   ]
  },
  {
   "cell_type": "code",
   "execution_count": 30,
   "metadata": {},
   "outputs": [
    {
     "name": "stdout",
     "output_type": "stream",
     "text": [
      "None\n"
     ]
    }
   ],
   "source": [
    "print(format_name4('','')) # mi restituisce il primo return che è None"
   ]
  },
  {
   "cell_type": "code",
   "execution_count": 31,
   "metadata": {},
   "outputs": [],
   "source": [
    "# oppure dire qualcosa all'utente che sta sbagliando qualcosa:\n",
    "def format_name4bis(f_name, l_name):\n",
    "    if f_name == '' or l_name == '':\n",
    "        return \"You didn't provide any valid inputs\"\n",
    "    fullname = f_name + ' ' + l_name\n",
    "    return fullname.title()"
   ]
  },
  {
   "cell_type": "code",
   "execution_count": 32,
   "metadata": {},
   "outputs": [
    {
     "data": {
      "text/plain": [
       "\"You didn't provide any valid inputs\""
      ]
     },
     "execution_count": 32,
     "metadata": {},
     "output_type": "execute_result"
    }
   ],
   "source": [
    "format_name4bis('','')"
   ]
  },
  {
   "cell_type": "code",
   "execution_count": null,
   "metadata": {},
   "outputs": [],
   "source": [
    "# trasforma questo codice per vedere se un anno è bisestile in modo tale che prenda un anno e che restituisca True o False.\n",
    "year = int(input(\"Which year do you want to check? \"))\n",
    "if year % 4 == 0:\n",
    "    if year % 100 != 0:\n",
    "        print(f\"{year} leap year\")\n",
    "    else:\n",
    "        if year % 400 == 0:\n",
    "            print(f\"{year} leap year\")\n",
    "        else:\n",
    "            print(f\"{year} not a leap year\")\n",
    "else:\n",
    "    print(f\"{year} not a leap year\")"
   ]
  },
  {
   "cell_type": "code",
   "execution_count": 33,
   "metadata": {},
   "outputs": [],
   "source": [
    "# funzione is_leap()\n",
    "def is_leap(year):\n",
    "    if year % 4 == 0:\n",
    "        if year % 100 != 0:\n",
    "            return True\n",
    "        else:\n",
    "            if year % 400 == 0:\n",
    "                return True\n",
    "            else:\n",
    "                return False\n",
    "    else:\n",
    "        return False   "
   ]
  },
  {
   "cell_type": "code",
   "execution_count": 35,
   "metadata": {},
   "outputs": [
    {
     "data": {
      "text/plain": [
       "False"
      ]
     },
     "execution_count": 35,
     "metadata": {},
     "output_type": "execute_result"
    }
   ],
   "source": [
    "is_leap(2019)"
   ]
  },
  {
   "cell_type": "code",
   "execution_count": 37,
   "metadata": {},
   "outputs": [
    {
     "name": "stdout",
     "output_type": "stream",
     "text": [
      "28\n"
     ]
    }
   ],
   "source": [
    "# costruire una funzione che ci dica il numero di giorni in un mese. Usare anche la funzione is_leap()\n",
    "def days_in_month(year, month):\n",
    "    month_days = [31, 28, 31, 30, 31, 30, 31, 31, 30, 31, 30, 31]\n",
    "    if is_leap(year) and month == 2:\n",
    "        return 29\n",
    "    else:\n",
    "        return month_days[month - 1]\n",
    "\n",
    "\n",
    "year = int(input(\"Enter a year: \"))\n",
    "month = int(input(\"Enter a month: \"))\n",
    "days = days_in_month(year, month)\n",
    "print(days)"
   ]
  },
  {
   "cell_type": "markdown",
   "metadata": {},
   "source": [
    "#### print() VS return\n",
    "stampare il risultato non permette di riutilizzare l'output che esce da una funzione. Il **return** invece lo permette perchè mantiene il data type."
   ]
  },
  {
   "cell_type": "markdown",
   "metadata": {},
   "source": [
    "#### Docstrings\n",
    "Aggiunge documentazione a una funzione che abbiamo scritto."
   ]
  },
  {
   "cell_type": "code",
   "execution_count": 40,
   "metadata": {},
   "outputs": [],
   "source": [
    "def format_name4bis(f_name, l_name):\n",
    "    \"\"\"Take first and last name and format in a single full name with title case version of it.\"\"\"\n",
    "    if f_name == '' or l_name == '':\n",
    "        return \"You didn't provide any valid inputs\"\n",
    "    fullname = f_name + ' ' + l_name\n",
    "    return fullname.title()"
   ]
  },
  {
   "cell_type": "code",
   "execution_count": 42,
   "metadata": {},
   "outputs": [],
   "source": [
    "# Final Project:\n",
    "# costruire una calcolatrice che chieda: \n",
    "# 1. quale è il primo numero \n",
    "# 2. quale è l'operazione da fare \n",
    "# 3. scegliere il numero successivo \n",
    "# 4. restituisce il risultato\n",
    "# 5. chiede se continuare il calcolo con quel numero o di inziizare un nuovo calcolo."
   ]
  },
  {
   "cell_type": "code",
   "execution_count": 43,
   "metadata": {},
   "outputs": [],
   "source": [
    "# step 1: creare diverse funzioni per le operazioni\n",
    "def add(n1, n2):\n",
    "    return n1 + n2\n",
    "\n",
    "def sub(n1, n2):\n",
    "    return n1 - n2\n",
    "\n",
    "def mol(n1, n2):\n",
    "    return n1 * n2\n",
    "\n",
    "def div(n1, n2):\n",
    "    return n1 / n2"
   ]
  },
  {
   "cell_type": "code",
   "execution_count": 49,
   "metadata": {},
   "outputs": [],
   "source": [
    "# step2: salvare le funzioni in un dizionario, dove le keys sono gli opeartori e i values le funzioni\n",
    "operations = {\n",
    "    \"+\":add,\n",
    "    \"-\":sub,\n",
    "    \"*\":mol,\n",
    "    \"/\":div,\n",
    "}"
   ]
  },
  {
   "cell_type": "code",
   "execution_count": 50,
   "metadata": {},
   "outputs": [
    {
     "name": "stdout",
     "output_type": "stream",
     "text": [
      "<function add at 0x000001E1EF666FC0>\n"
     ]
    }
   ],
   "source": [
    "# ora se chiamo una certa chiave, mi riporta al valore che contiene (quindi una funzione)\n",
    "print(operations['+'])"
   ]
  },
  {
   "cell_type": "code",
   "execution_count": 53,
   "metadata": {},
   "outputs": [
    {
     "name": "stdout",
     "output_type": "stream",
     "text": [
      "7\n",
      "-3\n"
     ]
    }
   ],
   "source": [
    "# che posso assegnare a una varabile generica e usare quella.\n",
    "function = operations['+']\n",
    "print(function(2, 5))\n",
    "\n",
    "function = operations['-']\n",
    "print(function(2, 5))"
   ]
  },
  {
   "cell_type": "code",
   "execution_count": 64,
   "metadata": {},
   "outputs": [
    {
     "name": "stdout",
     "output_type": "stream",
     "text": [
      "+\n",
      "-\n",
      "*\n",
      "/\n"
     ]
    }
   ],
   "source": [
    "# step 3: chiedere all'utente numeri e operatore\n",
    "num1 = float(input(\"What's the first number?: \"))\n",
    "num2 = float(input(\"What's the second number?: \"))\n",
    "for key in operations:\n",
    "    print(key)\n",
    "operator = input(\"Pick an operation from the line above: \")"
   ]
  },
  {
   "cell_type": "code",
   "execution_count": 65,
   "metadata": {},
   "outputs": [
    {
     "name": "stdout",
     "output_type": "stream",
     "text": [
      "10.0 - 10.0 = 0.0\n"
     ]
    }
   ],
   "source": [
    "# step 4: far funzionare il print finale:\n",
    "function = operations[operator]\n",
    "answer = function(num1, num2)\n",
    "\n",
    "print(f\"{num1} {operator} {num2} = {answer}\")"
   ]
  },
  {
   "cell_type": "code",
   "execution_count": 66,
   "metadata": {},
   "outputs": [
    {
     "name": "stdout",
     "output_type": "stream",
     "text": [
      "0.0 + 100 = 100.0\n"
     ]
    }
   ],
   "source": [
    "# step 5: chiedere un nuovo calcolo\n",
    "operator = input(\"Pick another operation: \")\n",
    "num3 = int(input(\"What is the next number?: \"))\n",
    "function = operations[operator]\n",
    "second_answer = function(answer, num3)\n",
    "print(f\"{answer} {operator} {num3} = {second_answer}\")"
   ]
  },
  {
   "cell_type": "code",
   "execution_count": 67,
   "metadata": {},
   "outputs": [
    {
     "name": "stdout",
     "output_type": "stream",
     "text": [
      "+\n",
      "-\n",
      "*\n",
      "/\n",
      "10.0 + 10.0 = 20.0\n",
      "20.0 - 10.0 = 10.0\n"
     ]
    }
   ],
   "source": [
    "# step 6: while loop per automatizzare tutto\n",
    "num1 = float(input(\"What's the first number?: \"))\n",
    "for key in operations:\n",
    "    print(key)\n",
    "calculating = True\n",
    "\n",
    "while calculating:\n",
    "    operator = input(\"Pick an operation: \")\n",
    "    num2 = float(input(\"What's the next number?: \"))\n",
    "    function = operations[operator]\n",
    "    answer = function(num1, num2)\n",
    "    print(f\"{num1} {operator} {num2} = {answer}\")\n",
    "\n",
    "    if input(\"Type 'y' to continue calculating, type 'n' to exit.: \") == 'y':\n",
    "        num1 = answer\n",
    "    else: \n",
    "        calculating = False"
   ]
  },
  {
   "cell_type": "markdown",
   "metadata": {},
   "source": [
    "Questo funziona, ma adesso magari vogliamo non uscire premendo 'n', ma iniziare un nuovo calcolo. \n",
    "#### Funzioni ricorsive"
   ]
  },
  {
   "cell_type": "code",
   "execution_count": 72,
   "metadata": {},
   "outputs": [],
   "source": [
    "def calculator():                                       # metto tutto dentro una funzione\n",
    "    num1 = float(input(\"What's the first number?: \"))\n",
    "    for key in operations:\n",
    "        print(key)\n",
    "    calculating = True\n",
    "\n",
    "    while calculating:\n",
    "        operator = input(\"Pick an operation: \")\n",
    "        num2 = float(input(\"What's the next number?: \"))\n",
    "        function = operations[operator]\n",
    "        answer = function(num1, num2)\n",
    "        print(f\"{num1} {operator} {num2} = {answer}\")\n",
    "\n",
    "        ask = input(\"Type 'y' to continue calculating, type 'e' to exit the program or type 'n' to start a new calculation.: \")\n",
    "        if  ask == 'y':\n",
    "            num1 = answer\n",
    "        elif ask == 'e':\n",
    "            print(\"Bye\")\n",
    "            calculating = False\n",
    "        else: \n",
    "            calculating = False         # esco dal loop\n",
    "            calculator()                # richiamo la funzione che fa ripartire tutto da capo, rigenerando le variabili"
   ]
  },
  {
   "cell_type": "code",
   "execution_count": 73,
   "metadata": {},
   "outputs": [
    {
     "name": "stdout",
     "output_type": "stream",
     "text": [
      "+\n",
      "-\n",
      "*\n",
      "/\n",
      "10.0 + 25.0 = 35.0\n",
      "35.0 / 7.0 = 5.0\n",
      "+\n",
      "-\n",
      "*\n",
      "/\n",
      "8.0 * 9.0 = 72.0\n",
      "Bye\n"
     ]
    }
   ],
   "source": [
    "calculator()"
   ]
  }
 ],
 "metadata": {
  "kernelspec": {
   "display_name": "Python 3.11.0 64-bit",
   "language": "python",
   "name": "python3"
  },
  "language_info": {
   "codemirror_mode": {
    "name": "ipython",
    "version": 3
   },
   "file_extension": ".py",
   "mimetype": "text/x-python",
   "name": "python",
   "nbconvert_exporter": "python",
   "pygments_lexer": "ipython3",
   "version": "3.11.0"
  },
  "orig_nbformat": 4,
  "vscode": {
   "interpreter": {
    "hash": "5238573367df39f7286bb46f9ff5f08f63a01a80960060ce41e3c79b190280fa"
   }
  }
 },
 "nbformat": 4,
 "nbformat_minor": 2
}
