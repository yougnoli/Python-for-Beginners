{
 "cells": [
  {
   "cell_type": "markdown",
   "metadata": {},
   "source": [
    "#### Funzioni che permettono imput"
   ]
  },
  {
   "cell_type": "code",
   "execution_count": 8,
   "metadata": {},
   "outputs": [],
   "source": [
    "# funzione chiamata greet: stampare 3 volte qualcosa \n",
    "def greet():\n",
    "    print(\"Hello\")\n",
    "    print(\"How do you do?\")\n",
    "    print(\"Isn't the weather nice today?\")"
   ]
  },
  {
   "cell_type": "code",
   "execution_count": 9,
   "metadata": {},
   "outputs": [
    {
     "name": "stdout",
     "output_type": "stream",
     "text": [
      "Hello\n",
      "How do you do?\n",
      "Isn't the weather nice today?\n"
     ]
    }
   ],
   "source": [
    "greet() # tutte le volte che chiamo questa funzione fara' sempre le stesse cose"
   ]
  },
  {
   "cell_type": "code",
   "execution_count": 10,
   "metadata": {},
   "outputs": [],
   "source": [
    "# cambiare la funzione aggiungendo la variabile nome\n",
    "def greet_name(name):\n",
    "    print(f\"Hello {name}\")\n",
    "    print(f\"How do you do {name}?\")\n",
    "    print(f\"Isn't the weather nice today?\")"
   ]
  },
  {
   "cell_type": "code",
   "execution_count": 12,
   "metadata": {},
   "outputs": [
    {
     "name": "stdout",
     "output_type": "stream",
     "text": [
      "Hello Alessio\n",
      "How do you do Alessio?\n",
      "Isn't the weather nice today?\n"
     ]
    }
   ],
   "source": [
    "greet_name('Alessio')"
   ]
  },
  {
   "cell_type": "code",
   "execution_count": 13,
   "metadata": {},
   "outputs": [
    {
     "name": "stdout",
     "output_type": "stream",
     "text": [
      "Hello Francesco\n",
      "How do you do Francesco?\n",
      "Isn't the weather nice today?\n"
     ]
    }
   ],
   "source": [
    "greet_name('Francesco')"
   ]
  },
  {
   "cell_type": "markdown",
   "metadata": {},
   "source": [
    "**def** my_function(*PARAMETER*)\n",
    "    \n",
    "        CODICE\n",
    "\n",
    "*PARAMETER* = 123 -> 123 e' l'argomento, cioe' l'effettivo valore dentro alla variabile passata nella funzione."
   ]
  },
  {
   "cell_type": "markdown",
   "metadata": {},
   "source": [
    "#### Funzioni con piu' di un PARAMETRO"
   ]
  },
  {
   "cell_type": "code",
   "execution_count": 14,
   "metadata": {},
   "outputs": [],
   "source": [
    "# funzione con 2 parametri: nome e location\n",
    "def greet_with(name, location):\n",
    "    print(f\"Hello, {name}.\")\n",
    "    print(f\"What is it like in {location}?\") "
   ]
  },
  {
   "cell_type": "code",
   "execution_count": 15,
   "metadata": {},
   "outputs": [
    {
     "name": "stdout",
     "output_type": "stream",
     "text": [
      "Hello, Alessio.\n",
      "What is it like in Bologna?\n"
     ]
    }
   ],
   "source": [
    "greet_with('Alessio', 'Bologna')"
   ]
  },
  {
   "cell_type": "code",
   "execution_count": 16,
   "metadata": {},
   "outputs": [
    {
     "name": "stdout",
     "output_type": "stream",
     "text": [
      "Hello, Bologna.\n",
      "What is it like in Alessio?\n"
     ]
    }
   ],
   "source": [
    "greet_with('Bologna', 'Alessio') # stessa funzione ma con gli argomenti invertiti"
   ]
  },
  {
   "cell_type": "markdown",
   "metadata": {},
   "source": [
    "Queste sopra sono funzioni chiamate attraverso **argomenti di posizione**, quindi il primo argomento e' assegnato al primo paramentro (nella prima chiamata name = Alessio, nella seconda chiamata name = Bologna) e il secondo argomento assegnato alla seconda variabile (nella prima chiamata location = Bologna, nella seconda chiamata location = Alessio)."
   ]
  },
  {
   "cell_type": "markdown",
   "metadata": {},
   "source": [
    "#### Funzioni con parole chiave come argomenti (Keyword Arguments)"
   ]
  },
  {
   "cell_type": "code",
   "execution_count": 18,
   "metadata": {},
   "outputs": [
    {
     "name": "stdout",
     "output_type": "stream",
     "text": [
      "Hello, Alessio.\n",
      "What is it like in Bologna?\n"
     ]
    }
   ],
   "source": [
    "greet_with(location='Bologna', name='Alessio') # funzione chiamata con keyword arguments"
   ]
  },
  {
   "cell_type": "code",
   "execution_count": 21,
   "metadata": {},
   "outputs": [
    {
     "name": "stdout",
     "output_type": "stream",
     "text": [
      "You'll need 2 cans of paint.\n"
     ]
    }
   ],
   "source": [
    "# 1 barattolo di vernice copre 5 metri quadri di muro. Dando un numero random di altezza e larghezza, calcolare quanti barattoli bisogna comprare. E arrotondare sempre per eccesso\n",
    "import math\n",
    "\n",
    "test_h = int(input(\"Height of wall: \"))             # non cambiare\n",
    "test_w = int(input(\"Width of wall: \"))              # non cambiare\n",
    "coverage = 5\n",
    "\n",
    "def paint_calc(height, width, cover):\n",
    "    num_cans = (height * width)/cover\n",
    "    print(f\"You'll need {math.ceil(num_cans)} cans of paint.\")\n",
    "\n",
    "paint_calc(height=test_h, width=test_w, cover=coverage)     # non cambiare"
   ]
  },
  {
   "cell_type": "code",
   "execution_count": 16,
   "metadata": {},
   "outputs": [],
   "source": [
    "# funzione che controlli se un numero e' primo\n",
    "# numero primo: numero che e' solo divisibile per 1 e per se' stesso (quindi deve avere resto per tutti gli altri).\n",
    "def prime_checker(number):\n",
    "    is_prime = True\n",
    "    for i in range(2, number):      # parto da 2 perche' tutti i numeri sono divisibile per 1. Escludo il numero chiamato perche' tutti i numeri sono divisibili per se stessi.\n",
    "        if number % i == 0:\n",
    "            is_prime = False\n",
    "\n",
    "    if is_prime:\n",
    "        print(f\"{number} is a prime number.\")\n",
    "    else:\n",
    "        print(f\"{number} is not a prime number.\")"
   ]
  },
  {
   "cell_type": "code",
   "execution_count": 18,
   "metadata": {},
   "outputs": [
    {
     "name": "stdout",
     "output_type": "stream",
     "text": [
      "8 is not a prime number.\n"
     ]
    }
   ],
   "source": [
    "n = int(input(\"Check this number: \"))\n",
    "prime_checker(number=n)"
   ]
  },
  {
   "cell_type": "markdown",
   "metadata": {},
   "source": [
    "#### Cifrario di Cesare"
   ]
  },
  {
   "cell_type": "code",
   "execution_count": 19,
   "metadata": {},
   "outputs": [],
   "source": [
    "# Spostare ogni lettera dell'alfabeto in avanti di un certo numero.\n",
    "#     A B C D ..\n",
    "# A B C D E F ..     Questo con uno shift di 3."
   ]
  },
  {
   "cell_type": "code",
   "execution_count": 23,
   "metadata": {},
   "outputs": [
    {
     "data": {
      "text/plain": [
       "26"
      ]
     },
     "execution_count": 23,
     "metadata": {},
     "output_type": "execute_result"
    }
   ],
   "source": [
    "alphabet = [l for l in \"abcdefghijklmnopqrstuvwxyz\"]\n",
    "direction = input(\"Type 'encode' to encrypt, type 'decode' to decrypt:\\n\")\n",
    "text = input(\"Type your message:\\n\").lower()\n",
    "shift = int(input(\"Type the shift number:\\n\"))"
   ]
  },
  {
   "cell_type": "markdown",
   "metadata": {},
   "source": [
    "#### Funzione encryption"
   ]
  },
  {
   "cell_type": "code",
   "execution_count": null,
   "metadata": {},
   "outputs": [],
   "source": [
    "# STEP 1\n",
    "# creare una funzione chiamata 'encrypt' che prende 'text' e 'shift' come input\n",
    "def encrypt(text, shift):"
   ]
  },
  {
   "cell_type": "code",
   "execution_count": 32,
   "metadata": {},
   "outputs": [
    {
     "name": "stdout",
     "output_type": "stream",
     "text": [
      "mjqqt\n"
     ]
    }
   ],
   "source": [
    "# STEP 2 shift delle lettere (test con la parola hello) \n",
    "word = 'hello'\n",
    "shift = 5\n",
    "letters = []\n",
    "for l in word:\n",
    "    letters.append(alphabet[alphabet.index(l) + shift])  # utilizzato il metodo .index() sulla lista alphabet\n",
    "print(''.join(letters))   # rimesso insieme la parola dalla lista delle lettere appese con metodo .join()"
   ]
  },
  {
   "cell_type": "code",
   "execution_count": 48,
   "metadata": {},
   "outputs": [],
   "source": [
    "# STEP 3 mettere insieme step 1 e 2 \n",
    "def encrypt(text, shift):\n",
    "    letters = []\n",
    "    for l in text:\n",
    "        position = alphabet.index(l)\n",
    "        letters.append(alphabet[position + shift])\n",
    "    new_text = ''.join(letters)\n",
    "    print(f\"The encrypted word for '{text}' is '{new_text}'\")\n",
    "\n",
    "# oppure\n",
    "def encrypt2(text, shift):\n",
    "    new_text = ''\n",
    "    for l in text:\n",
    "        position = alphabet.index(l)\n",
    "        new_text += alphabet[position + shift] \n",
    "    print(f\"The encrypted word for '{text}' is '{new_text}'\")"
   ]
  },
  {
   "cell_type": "code",
   "execution_count": 51,
   "metadata": {},
   "outputs": [
    {
     "name": "stdout",
     "output_type": "stream",
     "text": [
      "The encrypted word for 'hello' is 'mjqqt'\n",
      "The encrypted word for 'hello' is 'mjqqt'\n"
     ]
    }
   ],
   "source": [
    "encrypt('hello', 5)\n",
    "encrypt2('hello', 5)"
   ]
  },
  {
   "cell_type": "code",
   "execution_count": 53,
   "metadata": {},
   "outputs": [
    {
     "name": "stdout",
     "output_type": "stream",
     "text": [
      "The encrypted word for 'zulu' is 'ezqz'\n"
     ]
    }
   ],
   "source": [
    "# PROBLEMA: se andiamo a prendere una lettera alla fine dell'alfabeto (z) e facciamo shift di 5, \n",
    "# il programma ci dara' errore errore quando andremo a fare questo pezzo: alphabet[alphabet.index(l) + shift].\n",
    "alphabet = [l for l in \"abcdefghijklmnopqrstuvwxyzabcdefghijklmnopqrstuvwxyz\"]\n",
    "encrypt('zulu', 5)"
   ]
  },
  {
   "cell_type": "markdown",
   "metadata": {},
   "source": [
    "#### Funzione decryption"
   ]
  },
  {
   "cell_type": "code",
   "execution_count": null,
   "metadata": {},
   "outputs": [],
   "source": [
    "# STEP 1\n",
    "# creare una funzione chiamata 'decrypt' che prende 'text' e 'shift' come input\n",
    "def decrypt(text, shift):"
   ]
  },
  {
   "cell_type": "code",
   "execution_count": 56,
   "metadata": {},
   "outputs": [
    {
     "name": "stdout",
     "output_type": "stream",
     "text": [
      "hello\n"
     ]
    }
   ],
   "source": [
    "# STEP 2 shift delle lettere (test con la parola mjqqt che diventera' hello) \n",
    "word = 'mjqqt'\n",
    "shift = 5\n",
    "letters = []\n",
    "for l in word:\n",
    "    letters.append(alphabet[alphabet.index(l) - shift])  # cambiato segno\n",
    "print(''.join(letters))"
   ]
  },
  {
   "cell_type": "code",
   "execution_count": 57,
   "metadata": {},
   "outputs": [],
   "source": [
    "# STEP 3 mettere insieme step 1 e 2 \n",
    "def decrypt(text, shift):\n",
    "    letters = []\n",
    "    for l in text:\n",
    "        position = alphabet.index(l)\n",
    "        letters.append(alphabet[position - shift])\n",
    "    new_text = ''.join(letters)\n",
    "    print(f\"The decrypted word for '{text}' is '{new_text}'\")\n",
    "\n",
    "# oppure\n",
    "def decrypt2(text, shift):\n",
    "    new_text = ''\n",
    "    for l in text:\n",
    "        position = alphabet.index(l)\n",
    "        new_text += alphabet[position - shift] \n",
    "    print(f\"The decrypted word for '{text}' is '{new_text}'\")"
   ]
  },
  {
   "cell_type": "code",
   "execution_count": 58,
   "metadata": {},
   "outputs": [
    {
     "name": "stdout",
     "output_type": "stream",
     "text": [
      "The decrypted word for 'mjqqt' is 'hello'\n",
      "The decrypted word for 'mjqqt' is 'hello'\n"
     ]
    }
   ],
   "source": [
    "decrypt('mjqqt', 5)\n",
    "decrypt2('mjqqt', 5)"
   ]
  },
  {
   "cell_type": "markdown",
   "metadata": {},
   "source": [
    "#### Final:"
   ]
  },
  {
   "cell_type": "code",
   "execution_count": 63,
   "metadata": {},
   "outputs": [
    {
     "name": "stdout",
     "output_type": "stream",
     "text": [
      "The encrypted word for 'hello' is 'mjqqt'\n",
      "The decrypted word for 'mjqqt' is 'hello'\n",
      "The decrypted word for 'mjqqt' is 'hello'\n",
      "Bye!\n"
     ]
    }
   ],
   "source": [
    "alphabet = [l for l in \"abcdefghijklmnopqrstuvwxyzabcdefghijklmnopqrstuvwxyz\"]\n",
    "playing = True\n",
    "\n",
    "while playing:\n",
    "    direction = input(\"Type 'encode' to encrypt, type 'decode' to decrypt or 'quit' to exit:\\n\")\n",
    "    if direction == 'quit':\n",
    "        print(\"Bye!\")\n",
    "        playing = False\n",
    "    else:\n",
    "        text = input(\"Type your message:\\n\").lower()\n",
    "        shift = int(input(\"Type the shift number:\\n\"))\n",
    "\n",
    "        if direction == 'encode':\n",
    "            encrypt(text, shift)\n",
    "        elif direction == 'decode':\n",
    "            decrypt(text, shift)"
   ]
  },
  {
   "cell_type": "markdown",
   "metadata": {},
   "source": [
    "#### Final 2"
   ]
  },
  {
   "cell_type": "code",
   "execution_count": 69,
   "metadata": {},
   "outputs": [],
   "source": [
    "# unire in un'unica funzione (che avra' 3 input: text, shhift, direction) encryption e decryption.\n",
    "def ceasar(text, shift, direction):\n",
    "    if direction == 'decode':\n",
    "        shift = shift * (-1)\n",
    "\n",
    "    new_text = ''\n",
    "    for l in text:\n",
    "        position = alphabet.index(l)\n",
    "        new_text += alphabet[position + shift] \n",
    "    print(f\"The {direction}d word for '{text}' is '{new_text}'\")"
   ]
  },
  {
   "cell_type": "code",
   "execution_count": 70,
   "metadata": {},
   "outputs": [
    {
     "name": "stdout",
     "output_type": "stream",
     "text": [
      "The encoded word for 'hello' is 'mjqqt'\n",
      "The decoded word for 'mjqqt' is 'hello'\n"
     ]
    }
   ],
   "source": [
    "ceasar('hello', 5 , 'encode')\n",
    "ceasar('mjqqt', 5 , 'decode')"
   ]
  },
  {
   "cell_type": "code",
   "execution_count": 100,
   "metadata": {},
   "outputs": [
    {
     "name": "stdout",
     "output_type": "stream",
     "text": [
      "5\n"
     ]
    }
   ],
   "source": [
    "# PROBLEMA se l'utente mette come shift 100\n",
    "# con il % sappiamo il resto -> il resto di 26 in 100 (26 sono le lettere dell'alfabeto) e' 22\n",
    "shift = 5\n",
    "if shift > 26:\n",
    "    shift %= 26\n",
    "\n",
    "print(shift)    "
   ]
  },
  {
   "cell_type": "code",
   "execution_count": 91,
   "metadata": {},
   "outputs": [
    {
     "name": "stdout",
     "output_type": "stream",
     "text": [
      "mjqqt 12mjqqt!\n"
     ]
    }
   ],
   "source": [
    "# PROBLEMA ci sono simboli o spazi dentro al testo che vogliamo mantenere\n",
    "\n",
    "word = 'hello 12hello!'\n",
    "shift = 5\n",
    "new_text = ''\n",
    "for l in word:\n",
    "    if l in alphabet:\n",
    "        position = alphabet.index(l)\n",
    "        new_text += alphabet[position + shift]\n",
    "    else: \n",
    "        new_text += l\n",
    "print(new_text)"
   ]
  },
  {
   "cell_type": "code",
   "execution_count": 101,
   "metadata": {},
   "outputs": [],
   "source": [
    "def ceasar(text, shift, direction):\n",
    "    if shift > 26:\n",
    "        shift %= 26\n",
    "\n",
    "    if direction == 'decode':\n",
    "        shift = shift * (-1)\n",
    "\n",
    "    new_text = ''\n",
    "    for l in text:\n",
    "        if l in alphabet:\n",
    "            position = alphabet.index(l)\n",
    "            new_text += alphabet[position + shift]\n",
    "        else:\n",
    "            new_text += l\n",
    "    print(f\"The {direction}d word for '{text}' is '{new_text}'\")"
   ]
  },
  {
   "cell_type": "code",
   "execution_count": 104,
   "metadata": {},
   "outputs": [],
   "source": [
    "title = \"\"\"\n",
    "  ,--,  ,---.    .--.     .---.  .--.  ,---.      ,--,  ,-.,---.  .-. .-.,---.  ,---.    \n",
    ".' .')  | .-'   / /\\ \\   ( .-._)/ /\\ \\ | .-.\\   .' .')  |(|| .-.\\ | | | || .-'  | .-.\\   \n",
    "|  |(_) | `-.  / /__\\ \\ (_) \\  / /__\\ \\| `-'/   |  |(_) (_)| |-' )| `-' || `-.  | `-'/   \n",
    "\\  \\    | .-'  |  __  | _  \\ \\ |  __  ||   (    \\  \\    | || |--' | .-. || .-'  |   (    \n",
    " \\  `-. |  `--.| |  |)|( `-'  )| |  |)|| |\\ \\    \\  `-. | || |    | | |)||  `--.| |\\ \\   \n",
    "  \\____\\/( __.'|_|  (_) `----' |_|  (_)|_| \\)\\    \\____\\`-'/(     /(  (_)/( __.'|_| \\)\\  \n",
    "       (__)                                (__)           (__)   (__)   (__)        (__)\n",
    "\"\"\"\n",
    "name = \"\"\"\n",
    " __   __                      _ _ \n",
    " \\ \\ / /__ _  _ __ _ _ _  ___| (_)\n",
    "  \\ V / _ \\ || / _` | ' \\/ _ \\ | |\n",
    "   |_|\\___/\\_,_\\__, |_||_\\___/_|_|\n",
    "               |___/             \n",
    "\"\"\""
   ]
  },
  {
   "cell_type": "code",
   "execution_count": 107,
   "metadata": {},
   "outputs": [
    {
     "name": "stdout",
     "output_type": "stream",
     "text": [
      "\n",
      "  ,--,  ,---.    .--.     .---.  .--.  ,---.      ,--,  ,-.,---.  .-. .-.,---.  ,---.    \n",
      ".' .')  | .-'   / /\\ \\   ( .-._)/ /\\ \\ | .-.\\   .' .')  |(|| .-.\\ | | | || .-'  | .-.\\   \n",
      "|  |(_) | `-.  / /__\\ \\ (_) \\  / /__\\ \\| `-'/   |  |(_) (_)| |-' )| `-' || `-.  | `-'/   \n",
      "\\  \\    | .-'  |  __  | _  \\ \\ |  __  ||   (    \\  \\    | || |--' | .-. || .-'  |   (    \n",
      " \\  `-. |  `--.| |  |)|( `-'  )| |  |)|| |\\ \\    \\  `-. | || |    | | |)||  `--.| |\\ \\   \n",
      "  \\____\\/( __.'|_|  (_) `----' |_|  (_)|_| \\)\\    \\____\\`-'/(     /(  (_)/( __.'|_| \\)\\  \n",
      "       (__)                                (__)           (__)   (__)   (__)        (__)\n",
      "\n",
      "Developed by: \n",
      " __   __                      _ _ \n",
      " \\ \\ / /__ _  _ __ _ _ _  ___| (_)\n",
      "  \\ V / _ \\ || / _` | ' \\/ _ \\ | |\n",
      "   |_|\\___/\\_,_\\__, |_||_\\___/_|_|\n",
      "               |___/             \n",
      "\n",
      "The encoded word for 'hello, i'm alessio' is 'khoor, l'p dohvvlr'\n",
      "Bye!\n"
     ]
    }
   ],
   "source": [
    "alphabet = [l for l in \"abcdefghijklmnopqrstuvwxyzabcdefghijklmnopqrstuvwxyz\"]\n",
    "playing = True\n",
    "\n",
    "print(title)\n",
    "print(f'Developed by: {name}')\n",
    "\n",
    "while playing:\n",
    "\n",
    "    direction = input(\"Type 'encode' to encrypt, type 'decode' to decrypt:\\n\")\n",
    "    text = input(\"Type your message:\\n\").lower()\n",
    "    shift = int(input(\"Type the shift number:\\n\"))\n",
    "    ceasar(text=text, shift=shift, direction=direction)\n",
    "\n",
    "    ask = input(\"Type 'yes' if you want to go again. Otherwise type 'no'.\\n\").lower()\n",
    "    if ask == 'no':\n",
    "        print(\"Bye!\")\n",
    "        playing = False"
   ]
  }
 ],
 "metadata": {
  "kernelspec": {
   "display_name": "Python 3.11.0 64-bit",
   "language": "python",
   "name": "python3"
  },
  "language_info": {
   "codemirror_mode": {
    "name": "ipython",
    "version": 3
   },
   "file_extension": ".py",
   "mimetype": "text/x-python",
   "name": "python",
   "nbconvert_exporter": "python",
   "pygments_lexer": "ipython3",
   "version": "3.11.0"
  },
  "orig_nbformat": 4,
  "vscode": {
   "interpreter": {
    "hash": "5238573367df39f7286bb46f9ff5f08f63a01a80960060ce41e3c79b190280fa"
   }
  }
 },
 "nbformat": 4,
 "nbformat_minor": 2
}
