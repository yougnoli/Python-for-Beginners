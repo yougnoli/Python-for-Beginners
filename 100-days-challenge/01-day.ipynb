{
 "cells": [
  {
   "cell_type": "markdown",
   "metadata": {},
   "source": [
    "## print(), input(), stringhe"
   ]
  },
  {
   "cell_type": "code",
   "execution_count": 34,
   "metadata": {},
   "outputs": [
    {
     "name": "stdout",
     "output_type": "stream",
     "text": [
      "Hello World!\n"
     ]
    }
   ],
   "source": [
    "print(\"Hello World!\")\n",
    "\n",
    "# funzione che stampa a schermo quello che c'è tra i doppi apici"
   ]
  },
  {
   "cell_type": "code",
   "execution_count": 35,
   "metadata": {},
   "outputs": [
    {
     "name": "stdout",
     "output_type": "stream",
     "text": [
      "Day 1 - Python Print function\n",
      "The function is declare like this:\n",
      "print(\"Day 1 - Python Print function\")\n"
     ]
    }
   ],
   "source": [
    "print(\"Day 1 - Python Print function\")\n",
    "print(\"The function is declare like this:\")\n",
    "print('print(\"Day 1 - Python Print function\")')  # le stringhe possono essere esplicitate sia come apicini '' che come doppi apici \"\""
   ]
  },
  {
   "cell_type": "code",
   "execution_count": 36,
   "metadata": {},
   "outputs": [
    {
     "name": "stdout",
     "output_type": "stream",
     "text": [
      "Day 1 - Python Print function\n",
      "The function is declare like this:\n",
      "print(\"Day 1 - Python Print function\")\n"
     ]
    }
   ],
   "source": [
    "print('Day 1 - Python Print function\\nThe function is declare like this:\\nprint(\"Day 1 - Python Print function\")')"
   ]
  },
  {
   "cell_type": "code",
   "execution_count": 37,
   "metadata": {},
   "outputs": [
    {
     "name": "stdout",
     "output_type": "stream",
     "text": [
      "Hello World!\n",
      "Hello World!\n"
     ]
    }
   ],
   "source": [
    "print(\"Hello World!\\nHello World!\") # il \\n mi permette di scrivere in un print() unico 2 righe separate (deve essere dentro agli \"\")"
   ]
  },
  {
   "cell_type": "code",
   "execution_count": 38,
   "metadata": {},
   "outputs": [
    {
     "name": "stdout",
     "output_type": "stream",
     "text": [
      "Hello Alessio\n",
      "Hello Alessio\n"
     ]
    }
   ],
   "source": [
    "print(\"Hello\" + \" Alessio\") # concatenare le stringhe (nota lo spazio prima di Alessio)\n",
    "print(\"Hello\" + \" \" + \"Alessio\")"
   ]
  },
  {
   "cell_type": "code",
   "execution_count": 39,
   "metadata": {},
   "outputs": [
    {
     "name": "stdout",
     "output_type": "stream",
     "text": [
      "Hello Alessio!\n",
      "Hello Alessio!\n"
     ]
    }
   ],
   "source": [
    "# importare dati dentro al nostro codice\n",
    "input(\"What is your name? \") # input() mette in pausa il programma finchè non vengono inseriti i dati\n",
    "\n",
    "# quello che si scrive all'input(), sostituisce l'input() stesso:\n",
    "print(\"Hello \" + input(\"What is your name? \") + \"!\")\n",
    "print(\"Hello \" + \"Alessio\" + \"!\")"
   ]
  },
  {
   "cell_type": "code",
   "execution_count": 40,
   "metadata": {},
   "outputs": [
    {
     "name": "stdout",
     "output_type": "stream",
     "text": [
      "7\n"
     ]
    }
   ],
   "source": [
    "# stampare il numero di lettere passate alla funzione input()\n",
    "print(len(input(\"Type a word here and I'll count the characters: \")))"
   ]
  },
  {
   "cell_type": "markdown",
   "metadata": {},
   "source": [
    "## variabili"
   ]
  },
  {
   "cell_type": "code",
   "execution_count": 41,
   "metadata": {},
   "outputs": [
    {
     "name": "stdout",
     "output_type": "stream",
     "text": [
      "Alessio\n"
     ]
    }
   ],
   "source": [
    "# posso dare il risultato della input() a una variabile, per salvarlo da qualche parte\n",
    "name = input(\"What is your name? \")\n",
    "print(name)"
   ]
  },
  {
   "cell_type": "code",
   "execution_count": 42,
   "metadata": {},
   "outputs": [
    {
     "name": "stdout",
     "output_type": "stream",
     "text": [
      "Ale\n"
     ]
    }
   ],
   "source": [
    "# ome dice il nome, le variabili possono variare: prima name = \"Alessio\"\n",
    "name = \"Ale\"\n",
    "print(name)\n",
    "# adesso è \"Ale\""
   ]
  },
  {
   "cell_type": "code",
   "execution_count": 43,
   "metadata": {},
   "outputs": [
    {
     "name": "stdout",
     "output_type": "stream",
     "text": [
      "7\n"
     ]
    }
   ],
   "source": [
    "name = input(\"What is your name? \")\n",
    "length = len(name)\n",
    "print(length)"
   ]
  },
  {
   "cell_type": "code",
   "execution_count": 44,
   "metadata": {},
   "outputs": [
    {
     "name": "stdout",
     "output_type": "stream",
     "text": [
      "a = 2\n",
      "b = 1\n"
     ]
    }
   ],
   "source": [
    "# scrivere un codice che cambi le variabili\n",
    "a = input(\"a: \") # non cambiare\n",
    "b = input(\"b: \") # non cambiare\n",
    "\n",
    "a_copy = a[:]\n",
    "b_copy = b[:]\n",
    "a = b_copy\n",
    "b = a_copy\n",
    "\n",
    "print(\"a = \" + a) # non cambiare\n",
    "print(\"b = \" + b) # non cambiare"
   ]
  },
  {
   "cell_type": "code",
   "execution_count": 45,
   "metadata": {},
   "outputs": [
    {
     "name": "stdout",
     "output_type": "stream",
     "text": [
      "a = 2\n",
      "b = 1\n"
     ]
    }
   ],
   "source": [
    "# scrivere un codice che cambi le variabili 2\n",
    "a = input(\"a: \") # non cambiare\n",
    "b = input(\"b: \") # non cambiare\n",
    "\n",
    "c = a\n",
    "a = b\n",
    "b = c\n",
    "\n",
    "print(\"a = \" + a) # non cambiare\n",
    "print(\"b = \" + b) # non cambiare"
   ]
  },
  {
   "cell_type": "code",
   "execution_count": 46,
   "metadata": {},
   "outputs": [
    {
     "name": "stdout",
     "output_type": "stream",
     "text": [
      "Welcome to the Band name generator.\n",
      "Which city do you grew up in?\n",
      "Bristol\n",
      "What is your pet name?\n",
      "Rabbit\n",
      "Your band name could be: Bristol Rabbit\n"
     ]
    }
   ],
   "source": [
    "greeting = \"Welcome to the Band name generator.\"\n",
    "city = input(\"Which city do you grew up in?\\n\")\n",
    "pet = input(\"What is your pet name?\\n\")\n",
    "band_name = city + \" \" + pet\n",
    "\n",
    "print(greeting)\n",
    "print(\"Which city do you grew up in?\\n\" + city)\n",
    "print(\"What is your pet name?\\n\" + pet)\n",
    "print(\"Your band name could be: \" + band_name)"
   ]
  }
 ],
 "metadata": {
  "kernelspec": {
   "display_name": "Python 3.11.0 64-bit",
   "language": "python",
   "name": "python3"
  },
  "language_info": {
   "codemirror_mode": {
    "name": "ipython",
    "version": 3
   },
   "file_extension": ".py",
   "mimetype": "text/x-python",
   "name": "python",
   "nbconvert_exporter": "python",
   "pygments_lexer": "ipython3",
   "version": "3.11.0"
  },
  "orig_nbformat": 4,
  "vscode": {
   "interpreter": {
    "hash": "5d0b4253c7620fa0a0e327ec3980ef6fed1e54e2ff6f86da1deb0502198e7295"
   }
  }
 },
 "nbformat": 4,
 "nbformat_minor": 2
}
