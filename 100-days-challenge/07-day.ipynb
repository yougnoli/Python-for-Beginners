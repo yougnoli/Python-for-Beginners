{
 "cells": [
  {
   "cell_type": "markdown",
   "metadata": {},
   "source": [
    "#### Step 1"
   ]
  },
  {
   "cell_type": "code",
   "execution_count": 2,
   "metadata": {},
   "outputs": [],
   "source": [
    "word_list = ['ardvark', 'baboon', 'camel']"
   ]
  },
  {
   "cell_type": "code",
   "execution_count": 3,
   "metadata": {},
   "outputs": [
    {
     "name": "stdout",
     "output_type": "stream",
     "text": [
      "ardvark\n"
     ]
    }
   ],
   "source": [
    "# scegliere una parola random tra quelle nella lista e assegnarle alla variabile\n",
    "import random\n",
    "chosen_word = random.choice(word_list)\n",
    "print(chosen_word)"
   ]
  },
  {
   "cell_type": "code",
   "execution_count": 4,
   "metadata": {},
   "outputs": [
    {
     "name": "stdout",
     "output_type": "stream",
     "text": [
      "a\n"
     ]
    }
   ],
   "source": [
    "# chiedere all'utente di indovinare una lettera e assegnare la risposta a una variabile\n",
    "guess = input('Type a letter to guess the word: ').lower()\n",
    "print(guess)"
   ]
  },
  {
   "cell_type": "code",
   "execution_count": 5,
   "metadata": {},
   "outputs": [
    {
     "name": "stdout",
     "output_type": "stream",
     "text": [
      "Right\n",
      "Wrong\n",
      "Wrong\n",
      "Wrong\n",
      "Right\n",
      "Wrong\n",
      "Wrong\n"
     ]
    }
   ],
   "source": [
    "# controlla che la lettera scelta sia tra quelle della parola random\n",
    "for l in chosen_word:\n",
    "    if guess == l:\n",
    "        print('Right')\n",
    "    else:\n",
    "        print('Wrong')"
   ]
  },
  {
   "cell_type": "markdown",
   "metadata": {},
   "source": [
    "#### Step 2"
   ]
  },
  {
   "cell_type": "code",
   "execution_count": 23,
   "metadata": {},
   "outputs": [
    {
     "name": "stdout",
     "output_type": "stream",
     "text": [
      "['_', '_', '_', '_', '_', '_', '_']\n"
     ]
    }
   ],
   "source": [
    "# creare una lista vuota. Aggiungere \"_\" alla lista tanti quanti sono le lettere della parola\n",
    "display = []\n",
    "for n in chosen_word:\n",
    "    display.append(\"_\")\n",
    "\n",
    "print(display)"
   ]
  },
  {
   "cell_type": "code",
   "execution_count": 7,
   "metadata": {},
   "outputs": [
    {
     "name": "stdout",
     "output_type": "stream",
     "text": [
      "['a', '_', '_', '_', 'a', '_', '_']\n"
     ]
    }
   ],
   "source": [
    "# sostituire \"_\" con la lettera indovinata nella posizione corretta\n",
    "for n in range(0, len(chosen_word)-1):\n",
    "    if chosen_word[n] == guess:\n",
    "        display[n] = guess\n",
    "\n",
    "print(display)"
   ]
  },
  {
   "cell_type": "markdown",
   "metadata": {},
   "source": [
    "#### Step 3"
   ]
  },
  {
   "cell_type": "code",
   "execution_count": 13,
   "metadata": {},
   "outputs": [
    {
     "name": "stdout",
     "output_type": "stream",
     "text": [
      "Your guess: 'a'\n",
      "['a', '_', '_', '_', 'a', '_', '_']\n",
      "Your guess: 'l'\n",
      "['a', '_', '_', '_', 'a', '_', '_']\n",
      "Your guess: 'e'\n",
      "['a', '_', '_', '_', 'a', '_', '_']\n",
      "Your guess: 'r'\n",
      "['a', 'r', '_', '_', 'a', 'r', '_']\n",
      "Your guess: 'd'\n",
      "['a', 'r', 'd', '_', 'a', 'r', '_']\n",
      "Your guess: 'v'\n",
      "['a', 'r', 'd', 'v', 'a', 'r', '_']\n",
      "Your guess: 'k'\n",
      "['a', 'r', 'd', 'v', 'a', 'r', 'k']\n",
      "You win!, the word was: 'ardvark'.\n"
     ]
    }
   ],
   "source": [
    "# con un while loop permettere all'utente di giocare di nuovo fino a che non vince (indovina tutte le lettere)\n",
    "while \"_\" in display:\n",
    "\n",
    "    guess = input('Type a letter to guess the word: ').lower()\n",
    "    print(f\"Your guess: '{guess}'\")\n",
    "\n",
    "    for n in range(0, len(chosen_word)):\n",
    "        if chosen_word[n] == guess:\n",
    "            display[n] = guess\n",
    "\n",
    "    print(display)\n",
    "print(f\"You win!, the word was: '{chosen_word}'.\")"
   ]
  },
  {
   "cell_type": "code",
   "execution_count": 16,
   "metadata": {},
   "outputs": [
    {
     "name": "stdout",
     "output_type": "stream",
     "text": [
      "Your guess: 'a'\n",
      "['a', '_', '_', '_', 'a', '_', '_']\n",
      "Your guess: 's'\n",
      "['a', '_', '_', '_', 'a', '_', '_']\n",
      "Your guess: 'f'\n",
      "['a', '_', '_', '_', 'a', '_', '_']\n",
      "Your guess: 'r'\n",
      "['a', 'r', '_', '_', 'a', 'r', '_']\n",
      "Your guess: 'v'\n",
      "['a', 'r', '_', 'v', 'a', 'r', '_']\n",
      "Your guess: 'k'\n",
      "['a', 'r', '_', 'v', 'a', 'r', 'k']\n",
      "Your guess: 'd'\n",
      "['a', 'r', 'd', 'v', 'a', 'r', 'k']\n",
      "You win!, the word was: 'ardvark'.\n"
     ]
    }
   ],
   "source": [
    "end_game = False\n",
    "\n",
    "while not end_game:\n",
    "\n",
    "    guess = input('Type a letter to guess the word: ').lower()\n",
    "    print(f\"Your guess: '{guess}'\")\n",
    "\n",
    "    for n in range(0, len(chosen_word)):\n",
    "        if chosen_word[n] == guess:\n",
    "            display[n] = guess\n",
    "\n",
    "    print(display)\n",
    "\n",
    "    if \"_\" not in display:    # esce dal while loop\n",
    "        end_game = True\n",
    "        print(f\"You win!, the word was: '{chosen_word}'.\")"
   ]
  },
  {
   "cell_type": "markdown",
   "metadata": {},
   "source": [
    "#### Step 4"
   ]
  },
  {
   "cell_type": "code",
   "execution_count": 9,
   "metadata": {},
   "outputs": [],
   "source": [
    "# lista delle vite del giocatore\n",
    "\n",
    "stages = ['''\n",
    "  +---+\n",
    "  |   |\n",
    "  O   |\n",
    " /|\\  |\n",
    " / \\  |\n",
    "      |\n",
    "=========\n",
    "''', '''\n",
    "  +---+\n",
    "  |   |\n",
    "  O   |\n",
    " /|\\  |\n",
    " /    |\n",
    "      |\n",
    "=========\n",
    "''', '''\n",
    "  +---+\n",
    "  |   |\n",
    "  O   |\n",
    " /|\\  |\n",
    "      |\n",
    "      |\n",
    "=========\n",
    "''', '''\n",
    "  +---+\n",
    "  |   |\n",
    "  O   |\n",
    " /|   |\n",
    "      |\n",
    "      |\n",
    "=========''', '''\n",
    "  +---+\n",
    "  |   |\n",
    "  O   |\n",
    "  |   |\n",
    "      |\n",
    "      |\n",
    "=========\n",
    "''', '''\n",
    "  +---+\n",
    "  |   |\n",
    "  O   |\n",
    "      |\n",
    "      |\n",
    "      |\n",
    "=========\n",
    "''', '''\n",
    "  +---+\n",
    "  |   |\n",
    "      |\n",
    "      |\n",
    "      |\n",
    "      |\n",
    "=========\n",
    "''']"
   ]
  },
  {
   "cell_type": "code",
   "execution_count": 25,
   "metadata": {},
   "outputs": [
    {
     "name": "stdout",
     "output_type": "stream",
     "text": [
      "Your guess: 'e'\n",
      "\n",
      "  +---+\n",
      "  |   |\n",
      "      |\n",
      "      |\n",
      "      |\n",
      "      |\n",
      "=========\n",
      "\n",
      "\n",
      "You still have 5 lives!\n",
      "['a', 'r', '_', 'v', 'a', 'r', '_']\n",
      "Your guess: 'e'\n",
      "\n",
      "  +---+\n",
      "  |   |\n",
      "  O   |\n",
      "      |\n",
      "      |\n",
      "      |\n",
      "=========\n",
      "\n",
      "\n",
      "You still have 4 lives!\n",
      "['a', 'r', '_', 'v', 'a', 'r', '_']\n",
      "Your guess: ''\n",
      "['a', 'r', '_', 'v', 'a', 'r', '_']\n",
      "Your guess: ''\n",
      "['a', 'r', '_', 'v', 'a', 'r', '_']\n",
      "Your guess: ''\n",
      "['a', 'r', '_', 'v', 'a', 'r', '_']\n",
      "Your guess: 'k'\n",
      "['a', 'r', '_', 'v', 'a', 'r', 'k']\n",
      "Your guess: 'ur'\n",
      "\n",
      "  +---+\n",
      "  |   |\n",
      "  O   |\n",
      "  |   |\n",
      "      |\n",
      "      |\n",
      "=========\n",
      "\n",
      "\n",
      "You still have 3 lives!\n",
      "['a', 'r', '_', 'v', 'a', 'r', 'k']\n",
      "Your guess: 'a'\n",
      "['a', 'r', '_', 'v', 'a', 'r', 'k']\n",
      "Your guess: 'd'\n",
      "['a', 'r', 'd', 'v', 'a', 'r', 'k']\n",
      "You win!, the word was: 'ardvark'.\n"
     ]
    }
   ],
   "source": [
    "# inserire la variabile lives = 6. Se non si indovina la parola allora le lives diminuiscono. \n",
    "# Se lives = 0 allora il gioco deve fermarsi\n",
    "# mostrare ad ogni errore gli stage dalla lista stages\n",
    "\n",
    "lives = 6\n",
    "    \n",
    "end_game = False\n",
    "\n",
    "while not end_game:\n",
    "\n",
    "    guess = input('Type a letter to guess the word: ').lower()\n",
    "    print(f\"Your guess: '{guess}'\")\n",
    "\n",
    "    for n in range(0, len(chosen_word)):\n",
    "        if chosen_word[n] == guess:\n",
    "            display[n] = guess\n",
    "\n",
    "    if guess not in chosen_word:\n",
    "        print(stages[lives])\n",
    "        lives -= 1\n",
    "        print(f\"You still have {lives} lives!\")\n",
    "        if lives == 0:\n",
    "            end_game = True\n",
    "            print(f\"\\nYou lose!, the word was: '{chosen_word}'.\") \n",
    "\n",
    "    print(display)\n",
    "\n",
    "    if (\"_\" not in display):    # esce dal while loop\n",
    "        end_game = True\n",
    "        print(f\"You win!, the word was: '{chosen_word}'.\")  "
   ]
  },
  {
   "cell_type": "markdown",
   "metadata": {},
   "source": [
    "#### Step 5"
   ]
  },
  {
   "cell_type": "code",
   "execution_count": 29,
   "metadata": {},
   "outputs": [],
   "source": [
    "from hangman_words import word_list\n",
    "from hangman_art import stages, logo"
   ]
  },
  {
   "cell_type": "code",
   "execution_count": 31,
   "metadata": {},
   "outputs": [
    {
     "name": "stdout",
     "output_type": "stream",
     "text": [
      " \n",
      " _                                             \n",
      "| |                                            \n",
      "| |__   __ _ _ __   __ _ _ __ ___   __ _ _ __  \n",
      "| '_ \\ / _` | '_ \\ / _` | '_ ` _ \\ / _` | '_ \\ \n",
      "| | | | (_| | | | | (_| | | | | | | (_| | | | |\n",
      "|_| |_|\\__,_|_| |_|\\__, |_| |_| |_|\\__,_|_| |_|\n",
      "                    __/ |                      \n",
      "                   |___/    \n"
     ]
    }
   ],
   "source": [
    "print(logo)"
   ]
  },
  {
   "cell_type": "code",
   "execution_count": 36,
   "metadata": {},
   "outputs": [
    {
     "name": "stdout",
     "output_type": "stream",
     "text": [
      " \n",
      " _                                             \n",
      "| |                                            \n",
      "| |__   __ _ _ __   __ _ _ __ ___   __ _ _ __  \n",
      "| '_ \\ / _` | '_ \\ / _` | '_ ` _ \\ / _` | '_ \\ \n",
      "| | | | (_| | | | | (_| | | | | | | (_| | | | |\n",
      "|_| |_|\\__,_|_| |_|\\__, |_| |_| |_|\\__,_|_| |_|\n",
      "                    __/ |                      \n",
      "                   |___/    \n",
      "\u001b[H\u001b[2JYou typed a.\n",
      "['a', '_', '_', '_', 'a', '_', '_']\n",
      "\u001b[H\u001b[2JYou typed v.\n",
      "['a', '_', '_', 'v', 'a', '_', '_']\n",
      "\u001b[H\u001b[2JYou typed t.\n",
      "\n",
      "  +---+\n",
      "  |   |\n",
      "      |\n",
      "      |\n",
      "      |\n",
      "      |\n",
      "=========\n",
      "\n",
      "Wrong! You still have 5 lives!\n",
      "['a', '_', '_', 'v', 'a', '_', '_']\n",
      "\u001b[H\u001b[2JYou typed i.\n",
      "\n",
      "  +---+\n",
      "  |   |\n",
      "  O   |\n",
      "      |\n",
      "      |\n",
      "      |\n",
      "=========\n",
      "\n",
      "Wrong! You still have 4 lives!\n",
      "['a', '_', '_', 'v', 'a', '_', '_']\n",
      "\u001b[H\u001b[2JYou typed d.\n",
      "['a', '_', 'd', 'v', 'a', '_', '_']\n",
      "\u001b[H\u001b[2JYou typed k.\n",
      "['a', '_', 'd', 'v', 'a', '_', 'k']\n",
      "\u001b[H\u001b[2JYou typed r.\n",
      "['a', 'r', 'd', 'v', 'a', 'r', 'k']\n",
      "You win!, the word was: 'ardvark'.\n"
     ]
    }
   ],
   "source": [
    "print(logo)\n",
    "\n",
    "display = []\n",
    "for n in chosen_word:\n",
    "    display.append(\"_\")\n",
    "\n",
    "lives = 6\n",
    "    \n",
    "end_game = False\n",
    "\n",
    "while not end_game:\n",
    "\n",
    "    guess = input('Type a letter to guess the word: ').lower()\n",
    "\n",
    "    #clear()\n",
    "\n",
    "    if guess in display:\n",
    "        print(f\"You have already guessed letter {guess}.\")\n",
    "    else:\n",
    "        print(f\"Correct! You typed {guess}.\")\n",
    "\n",
    "    for n in range(0, len(chosen_word)):\n",
    "        if chosen_word[n] == guess:\n",
    "            display[n] = guess\n",
    "\n",
    "    if guess not in chosen_word:\n",
    "        print(stages[lives])\n",
    "        lives -= 1\n",
    "        print(f\"Wrong! You still have {lives} lives!\")\n",
    "        if lives == 0:\n",
    "            end_game = True\n",
    "            print(f\"\\nYou lose!, the word was: '{chosen_word}'.\") \n",
    "\n",
    "    print(display)\n",
    "\n",
    "    if (\"_\" not in display):    # esce dal while loop\n",
    "        end_game = True\n",
    "        print(f\"You win!, the word was: '{chosen_word}'.\")  "
   ]
  },
  {
   "cell_type": "code",
   "execution_count": 34,
   "metadata": {},
   "outputs": [],
   "source": [
    "# per pulire lo schermo dopo ogni guess\n",
    "from replit import clear"
   ]
  },
  {
   "cell_type": "code",
   "execution_count": 35,
   "metadata": {},
   "outputs": [
    {
     "name": "stdout",
     "output_type": "stream",
     "text": [
      "\u001b[H\u001b[2J"
     ]
    }
   ],
   "source": [
    "clear()"
   ]
  },
  {
   "cell_type": "markdown",
   "metadata": {},
   "source": [
    "#### Final:"
   ]
  },
  {
   "cell_type": "code",
   "execution_count": null,
   "metadata": {},
   "outputs": [],
   "source": [
    "import random\n",
    "from hangman_words import word_list\n",
    "from hangman_art import stages, logo\n",
    "from replit import clear\n",
    "\n",
    "print(logo)\n",
    "print(\"\\t\\tDeveloped by Yougnoli\\n\")\n",
    "\n",
    "chosen_word = random.choice(word_list)\n",
    "\n",
    "display = []\n",
    "for n in chosen_word:\n",
    "    display.append(\"_\")\n",
    "\n",
    "lives = 6\n",
    "    \n",
    "end_game = False\n",
    "\n",
    "while not end_game:\n",
    "\n",
    "    guess = input('Type a letter to guess the word: ').lower()\n",
    "\n",
    "    clear()\n",
    "\n",
    "    if guess in display:\n",
    "        print(f\"You have already guessed letter {guess}.\")\n",
    "    else:\n",
    "        print(f\"You typed {guess}.\")\n",
    "\n",
    "    for n in range(0, len(chosen_word)):\n",
    "        if chosen_word[n] == guess:\n",
    "            display[n] = guess\n",
    "\n",
    "    if guess not in chosen_word:\n",
    "        lives -= 1\n",
    "        print(stages[lives])\n",
    "        if lives != 0:\n",
    "            print(f\"Wrong! You still have {lives} lives!\")\n",
    "        elif lives == 0:\n",
    "            end_game = True\n",
    "            print(f\"\\nYou lose!, the word was: '{chosen_word}'.\")\n",
    "            \n",
    "        \n",
    "\n",
    "    print(display)\n",
    "\n",
    "    if (\"_\" not in display):\n",
    "        end_game = True\n",
    "        print(f\"You win!, the word was: '{chosen_word}'.\")"
   ]
  }
 ],
 "metadata": {
  "kernelspec": {
   "display_name": "Python 3.11.0 64-bit",
   "language": "python",
   "name": "python3"
  },
  "language_info": {
   "codemirror_mode": {
    "name": "ipython",
    "version": 3
   },
   "file_extension": ".py",
   "mimetype": "text/x-python",
   "name": "python",
   "nbconvert_exporter": "python",
   "pygments_lexer": "ipython3",
   "version": "3.11.0"
  },
  "orig_nbformat": 4,
  "vscode": {
   "interpreter": {
    "hash": "5238573367df39f7286bb46f9ff5f08f63a01a80960060ce41e3c79b190280fa"
   }
  }
 },
 "nbformat": 4,
 "nbformat_minor": 2
}
