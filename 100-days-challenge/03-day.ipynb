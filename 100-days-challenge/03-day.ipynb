{
 "cells": [
  {
   "cell_type": "markdown",
   "metadata": {},
   "source": [
    "## Condizione If/else "
   ]
  },
  {
   "cell_type": "code",
   "execution_count": 1,
   "metadata": {},
   "outputs": [
    {
     "name": "stdout",
     "output_type": "stream",
     "text": [
      "Continue\n"
     ]
    }
   ],
   "source": [
    "water_level = 50\n",
    "if water_level > 80:\n",
    "    print(\"Drain water\")\n",
    "else:\n",
    "    print(\"Continue\")"
   ]
  },
  {
   "cell_type": "code",
   "execution_count": 2,
   "metadata": {},
   "outputs": [
    {
     "name": "stdout",
     "output_type": "stream",
     "text": [
      "Welcome to the rollercoaster!\n",
      "You can ride the rollercoaster!\n"
     ]
    }
   ],
   "source": [
    "print(\"Welcome to the rollercoaster!\")\n",
    "height = int(input(\"What is your height in cm? \"))\n",
    "if height >= 120:     # if è True, allora entra ed esegue il codice\n",
    "    print(\"You can ride the rollercoaster!\")\n",
    "else:                # if è False, allora esegue il codice nell'else\n",
    "    print(\"Sorry, you have to get taller before you can ride.\")"
   ]
  },
  {
   "cell_type": "markdown",
   "metadata": {},
   "source": [
    "#### Operatori di confronto"
   ]
  },
  {
   "cell_type": "code",
   "execution_count": 3,
   "metadata": {},
   "outputs": [],
   "source": [
    "# >\n",
    "# <\n",
    "# >=\n",
    "# <=\n",
    "\n",
    "# ==\n",
    "# !="
   ]
  },
  {
   "cell_type": "code",
   "execution_count": 4,
   "metadata": {},
   "outputs": [
    {
     "name": "stdout",
     "output_type": "stream",
     "text": [
      "Welcome to the rollercoaster!\n",
      "Sorry, you have to get taller before you can ride.\n",
      "\n",
      "Your height is 180 cm\n"
     ]
    }
   ],
   "source": [
    "# C'è molta differenza tra il >= e il ==. In questo codice solo chi è esattamente 120 cm può fare il rollercoaster\n",
    "print(\"Welcome to the rollercoaster!\")\n",
    "height = int(input(\"What is your height in cm? \"))\n",
    "if height == 120:     # if è True, allora entra ed esegue il codice\n",
    "    print(\"You can ride the rollercoaster!\")\n",
    "else:                # if è False, allora esegue il codice nell'else\n",
    "    print(\"Sorry, you have to get taller before you can ride.\")\n",
    "print()\n",
    "print(f\"Your height is {height} cm\")"
   ]
  },
  {
   "cell_type": "code",
   "execution_count": 5,
   "metadata": {},
   "outputs": [
    {
     "name": "stdout",
     "output_type": "stream",
     "text": [
      "Number 45 is odd.\n"
     ]
    }
   ],
   "source": [
    "number = int(input(\"Wich number do you want to check? \"))\n",
    "if number % 2:\n",
    "    print(f'Number {number} is odd.')\n",
    "else:\n",
    "    print(f'Number {number} is even.')"
   ]
  },
  {
   "cell_type": "markdown",
   "metadata": {},
   "source": [
    "## Condizioni If/else annidate"
   ]
  },
  {
   "cell_type": "code",
   "execution_count": 6,
   "metadata": {},
   "outputs": [
    {
     "name": "stdout",
     "output_type": "stream",
     "text": [
      "Welcome to the rollercoaster!\n",
      "You can ride the rollercoaster! (150)\n",
      "Please pay $12. (34)\n"
     ]
    }
   ],
   "source": [
    "print(\"Welcome to the rollercoaster!\")\n",
    "height = int(input(\"What is your height in cm? \"))\n",
    "if height >= 120:     # if è True, allora entra ed esegue il codice\n",
    "    print(f\"You can ride the rollercoaster! ({height})\")\n",
    "    age = int(input(\"What is your age? \"))\n",
    "    if age > 18:\n",
    "        print(f\"Please pay $12. ({age})\")\n",
    "    else:\n",
    "        print(f\"Please pay $7. ({age})\")\n",
    "else:                # if è False, allora esegue il codice nell'else\n",
    "    print(f\"Sorry, you have to get taller before you can ride. ({height})\")"
   ]
  },
  {
   "cell_type": "code",
   "execution_count": 7,
   "metadata": {},
   "outputs": [
    {
     "name": "stdout",
     "output_type": "stream",
     "text": [
      "Welcome to the rollercoaster!\n",
      "You can ride the rollercoaster! (170)\n",
      "Please pay $12. (34)\n"
     ]
    }
   ],
   "source": [
    "print(\"Welcome to the rollercoaster!\")\n",
    "height = int(input(\"What is your height in cm? \"))\n",
    "if height >= 120:     # if è True, allora entra ed esegue il codice\n",
    "    print(f\"You can ride the rollercoaster! ({height})\")\n",
    "    age = int(input(\"What is your age? \"))\n",
    "    if age >= 18:\n",
    "        print(f\"Please pay $12. ({age})\")\n",
    "    elif age >= 12 :                       # posso usare quanti elif voglio\n",
    "        print(f\"Please pay $7. ({age})\")\n",
    "    else:\n",
    "        print(f\"Please pay $5. ({age})\")\n",
    "else:                # if è False, allora esegue il codice nell'else\n",
    "    print(f\"Sorry, you have to get taller before you can ride. ({height})\")"
   ]
  },
  {
   "cell_type": "code",
   "execution_count": 9,
   "metadata": {},
   "outputs": [
    {
     "name": "stdout",
     "output_type": "stream",
     "text": [
      "With a 42.81 BMI you are Clinically obese\n"
     ]
    }
   ],
   "source": [
    "height = float(input(\"Enter your height in m: \"))\n",
    "weight = float(input(\"Enter your weight in kg: \"))\n",
    "\n",
    "BMI = round((weight)/(height**2), 2)      # viene eseguita la prima condition che ritorna True. Appena ne incontra una, le successive vengono saltate.\n",
    "\n",
    "if BMI >= 35:\n",
    "    print(f\"With a {BMI} BMI you are Clinically obese\")\n",
    "elif BMI >= 30:\n",
    "    print(f\"With a {BMI} BMI you are Obese\")\n",
    "elif BMI >= 25:\n",
    "    print(f\"With a {BMI} BMI you are Overweight\")\n",
    "elif BMI >= 18.5:\n",
    "    print(f\"With a {BMI} BMI you are Normal weight\")\n",
    "else:\n",
    "    print(f\"With a {BMI} BMI you are Underweight\")   "
   ]
  },
  {
   "cell_type": "code",
   "execution_count": 23,
   "metadata": {},
   "outputs": [
    {
     "name": "stdout",
     "output_type": "stream",
     "text": [
      "1989 not leap year\n"
     ]
    }
   ],
   "source": [
    "# challenge se un anno è bisestile. \n",
    "# un anno è bisestile se è divisibile per 4 e non divisibile per 100. Ma se è divisibile per 100 deve essere anche divisibile per 400.\n",
    "year = int(input(\"Which year do you want to check? \"))\n",
    "if year % 4 == 0:\n",
    "    if (year % 100) and (year % 400):\n",
    "        print(f\"{year} leap year\")\n",
    "else:\n",
    "    print(f\"{year} not leap year\")"
   ]
  },
  {
   "cell_type": "code",
   "execution_count": 50,
   "metadata": {},
   "outputs": [
    {
     "name": "stdout",
     "output_type": "stream",
     "text": [
      "2800 leap year\n"
     ]
    }
   ],
   "source": [
    "# challenge se un anno è bisestile. \n",
    "# un anno è bisestile se è divisibile per 4 eccetto se è divisibile per 100. Ma se è divisibile per 100 e divisibile per 400 allora è bisestile.\n",
    "year = int(input(\"Which year do you want to check? \"))\n",
    "if year % 4 == 0:\n",
    "    if year % 100 != 0:\n",
    "        print(f\"{year} leap year\")\n",
    "    else:\n",
    "        if year % 400 == 0:\n",
    "            print(f\"{year} leap year\")\n",
    "        else:\n",
    "            print(f\"{year} not a leap year\")\n",
    "else:\n",
    "    print(f\"{year} not a leap year\")"
   ]
  },
  {
   "cell_type": "code",
   "execution_count": 52,
   "metadata": {},
   "outputs": [
    {
     "name": "stdout",
     "output_type": "stream",
     "text": [
      "Welcome to the rollercoaster!\n",
      "You can ride the rollercoaster! (180)\n",
      "Ticket is $12. (28)\n",
      "Your final bill is $15\n"
     ]
    }
   ],
   "source": [
    "print(\"Welcome to the rollercoaster!\")\n",
    "height = int(input(\"What is your height in cm? \"))\n",
    "bill = None    # aggiungo la variabile bill\n",
    "\n",
    "if height >= 120:     \n",
    "    print(f\"You can ride the rollercoaster! ({height})\")\n",
    "    age = int(input(\"What is your age? \"))\n",
    "    if age >= 18:\n",
    "        bill = 12    # aggiungo le variabili con il prezzo \n",
    "        print(f\"Ticket is $12. ({age})\")\n",
    "    elif age >= 12 :     \n",
    "        bill = 7    # aggiungo le variabili con il prezzo                 \n",
    "        print(f\"Ticket is $7. ({age})\")\n",
    "    else:\n",
    "        bill = 5    # aggiungo le variabili con il prezzo\n",
    "        print(f\"Ticket is $5. ({age})\")\n",
    "\n",
    "    wants_photo = input(\"Do you want a photo? Y or N. \")    # una volta controllata l'età voglio fare un altro controllo. Quindi gli if sono alla stessa indentatura\n",
    "    if wants_photo == 'Y':\n",
    "        bill += 3\n",
    "    # non importa aggiungere l'else in questo caso\n",
    "\n",
    "    print(f\"Your final bill is ${bill}\")\n",
    "\n",
    "else:                \n",
    "    print(f\"Sorry, you have to get taller before you can ride. ({height})\")"
   ]
  },
  {
   "cell_type": "code",
   "execution_count": 55,
   "metadata": {},
   "outputs": [
    {
     "name": "stdout",
     "output_type": "stream",
     "text": [
      "Welcome to the Python Pizza Deliveries!\n",
      "Your final bill is $29\n"
     ]
    }
   ],
   "source": [
    "# challenge\n",
    "\n",
    "print(\"Welcome to the Python Pizza Deliveries!\")\n",
    "size = input(\"What size pizza do you want? S, M or L? \")\n",
    "pepperoni = input(\"Do you want pepperoni? Y or N. \")\n",
    "extra_cheese = input(\"Do you want extra cheese? Y or N. \")\n",
    "\n",
    "bill = None\n",
    "\n",
    "if size.upper() == 'S':\n",
    "    bill = 15\n",
    "elif size.upper() == 'M':\n",
    "    bill = 20\n",
    "elif size.upper() == 'L':\n",
    "    bill = 25\n",
    "else:\n",
    "    print('No such a pizza size in my restaurant!')\n",
    "\n",
    "if pepperoni.upper() == 'Y':\n",
    "    if size.upper() == 'S':\n",
    "        bill += 2\n",
    "    else:\n",
    "        bill += 3\n",
    "\n",
    "if extra_cheese.upper() == 'Y':\n",
    "    bill += 1\n",
    "\n",
    "print(f\"Your final bill is ${bill}\")"
   ]
  },
  {
   "cell_type": "markdown",
   "metadata": {},
   "source": [
    "## Operatori logici"
   ]
  },
  {
   "cell_type": "code",
   "execution_count": 56,
   "metadata": {},
   "outputs": [
    {
     "data": {
      "text/plain": [
       "False"
      ]
     },
     "execution_count": 56,
     "metadata": {},
     "output_type": "execute_result"
    }
   ],
   "source": [
    "a = 12\n",
    "a > 15"
   ]
  },
  {
   "cell_type": "code",
   "execution_count": 57,
   "metadata": {},
   "outputs": [
    {
     "data": {
      "text/plain": [
       "True"
      ]
     },
     "execution_count": 57,
     "metadata": {},
     "output_type": "execute_result"
    }
   ],
   "source": [
    "a > 10 and a < 15"
   ]
  },
  {
   "cell_type": "code",
   "execution_count": 58,
   "metadata": {},
   "outputs": [
    {
     "data": {
      "text/plain": [
       "False"
      ]
     },
     "execution_count": 58,
     "metadata": {},
     "output_type": "execute_result"
    }
   ],
   "source": [
    "a > 10 and a < 11"
   ]
  },
  {
   "cell_type": "code",
   "execution_count": 59,
   "metadata": {},
   "outputs": [
    {
     "data": {
      "text/plain": [
       "True"
      ]
     },
     "execution_count": 59,
     "metadata": {},
     "output_type": "execute_result"
    }
   ],
   "source": [
    "a > 10 or a < 11"
   ]
  },
  {
   "cell_type": "code",
   "execution_count": 60,
   "metadata": {},
   "outputs": [
    {
     "data": {
      "text/plain": [
       "True"
      ]
     },
     "execution_count": 60,
     "metadata": {},
     "output_type": "execute_result"
    }
   ],
   "source": [
    "a > 10 and not a < 11"
   ]
  },
  {
   "cell_type": "code",
   "execution_count": 65,
   "metadata": {},
   "outputs": [
    {
     "name": "stdout",
     "output_type": "stream",
     "text": [
      "Welcome to the rollercoaster!\n",
      "You can ride the rollercoaster! (180)\n",
      "Everything is going to be ok. Have a free ride on us!\n",
      "Your final bill is $0\n"
     ]
    }
   ],
   "source": [
    "print(\"Welcome to the rollercoaster!\")\n",
    "height = int(input(\"What is your height in cm? \"))\n",
    "bill = 0 \n",
    "\n",
    "if height >= 120:     \n",
    "    print(f\"You can ride the rollercoaster! ({height})\")\n",
    "    age = int(input(\"What is your age? \"))\n",
    "    if age >= 45 and age <= 55:    # età compresa, operatore and\n",
    "        print(\"Everything is going to be ok. Have a free ride on us!\")    \n",
    "    elif age >= 18:\n",
    "        bill = 12\n",
    "        print(f\"Ticket is $12. ({age})\")\n",
    "    elif age >= 12 :     \n",
    "        bill = 7                   \n",
    "        print(f\"Ticket is $7. ({age})\")\n",
    "    else:\n",
    "        bill = 5    \n",
    "        print(f\"Ticket is $5. ({age})\")\n",
    "    wants_photo = input(\"Do you want a photo? Y or N. \")   \n",
    "    if wants_photo == 'Y':\n",
    "        bill += 3\n",
    "\n",
    "    print(f\"Your final bill is ${bill}\")\n",
    "\n",
    "else:                \n",
    "    print(f\"Sorry, you have to get taller before you can ride. ({height})\")"
   ]
  },
  {
   "cell_type": "code",
   "execution_count": 67,
   "metadata": {},
   "outputs": [
    {
     "name": "stdout",
     "output_type": "stream",
     "text": [
      "Welcome to the Love Calculator\n",
      "Your score is 78.\n"
     ]
    }
   ],
   "source": [
    "# challenge\n",
    "\n",
    "print(\"Welcome to the Love Calculator\")\n",
    "name1 = input(\"What is your name? \")\n",
    "name2 = input(\"What is their name? \")\n",
    "\n",
    "combined_names = name1 + name2\n",
    "low_combined_names = combined_names.lower()\n",
    "\n",
    "t = low_combined_names.count(\"t\")\n",
    "r = low_combined_names.count(\"r\")\n",
    "u = low_combined_names.count(\"u\")\n",
    "e = low_combined_names.count(\"e\")\n",
    "\n",
    "true = t + r + u + e\n",
    "\n",
    "l = low_combined_names.count(\"l\")\n",
    "o = low_combined_names.count(\"o\")\n",
    "v = low_combined_names.count(\"v\")\n",
    "e = low_combined_names.count(\"e\")\n",
    "\n",
    "love = l + o + v + e\n",
    "\n",
    "percentage = int(str(true) + str(love))\n",
    "\n",
    "if (percentage <= 10) or (percentage >= 90):\n",
    "    print(f\"Your love score is {percentage}, you go like coke and mentos.\")\n",
    "elif (percentage >= 40) and (percentage <= 50): \n",
    "    print(f\"Your love score is {percentage}, you look just fine.\")\n",
    "else:\n",
    "    print(f\"Your score is {percentage}.\")"
   ]
  },
  {
   "cell_type": "code",
   "execution_count": 76,
   "metadata": {},
   "outputs": [
    {
     "name": "stdout",
     "output_type": "stream",
     "text": [
      "Welcome to the Love Calculator\n",
      "Your score is 78.\n"
     ]
    }
   ],
   "source": [
    "print(\"Welcome to the Love Calculator\")\n",
    "name1 = input(\"What is your name? \")\n",
    "name2 = input(\"What is their name? \")\n",
    "\n",
    "combined_names = name1.lower() + name2.lower()\n",
    "\n",
    "l_true = list(\"true\")\n",
    "l_love = list(\"love\")\n",
    "\n",
    "count_t = 0\n",
    "count_l = 0\n",
    "\n",
    "for l in combined_names:\n",
    "    if l in l_true:\n",
    "        count_t += 1\n",
    "    if l in l_love:\n",
    "        count_l += 1\n",
    "\n",
    "percentage = int(str(count_t) + str(count_l))\n",
    "\n",
    "if (percentage <= 10) or (percentage >= 90):\n",
    "    print(f\"Your love score is {percentage}, you go like coke and mentos.\")\n",
    "elif (percentage >= 40) and (percentage <= 50): \n",
    "    print(f\"Your love score is {percentage}, you look just fine.\")\n",
    "else:\n",
    "    print(f\"Your score is {percentage}.\")"
   ]
  },
  {
   "cell_type": "code",
   "execution_count": 69,
   "metadata": {},
   "outputs": [
    {
     "name": "stdout",
     "output_type": "stream",
     "text": [
      "Welcome to Treasure Island.\n",
      "Your mission is to find the treasure.\n",
      "You choose neither red, blue or yellow. Game Over.\n"
     ]
    }
   ],
   "source": [
    "# challenge\n",
    "\n",
    "print(\"Welcome to Treasure Island.\")\n",
    "print(\"Your mission is to find the treasure.\")\n",
    "direction =input(\"You are at a cross road. Where do you want to go? L or R \")\n",
    "\n",
    "if direction.upper() == 'L':\n",
    "    action = input(\"You come to a lake. There is an island in the middle of the lake. You want to waitfor a boat (W) or swim across (S)? \")\n",
    "    if action.upper() == 'W':\n",
    "        colour = input(\"You arrive at the island unharmed. There is a house with 3 doors. One red, one yellow and one blue. Which colour do you choose? \")\n",
    "        if (colour.lower() == 'blue') or (colour.lower() == 'red'):\n",
    "            print(\"You enter a room of beasts. Game Over.\") \n",
    "        elif colour.lower() == 'yellow':\n",
    "            print(\"You Win!\")\n",
    "        else:\n",
    "            print(\"You choose neither red, blue or yellow. Game Over.\")\n",
    "    elif action.upper() == 'S':\n",
    "        print(\"Game Over.\")\n",
    "    else:\n",
    "        print(\"You choose neither W or S. Game Over.\")\n",
    "elif direction.upper() == 'R':\n",
    "    print(\"Game Over.\")\n",
    "else:\n",
    "    print(\"You choose neither L or R. Game Over.\")"
   ]
  },
  {
   "cell_type": "code",
   "execution_count": 71,
   "metadata": {},
   "outputs": [],
   "source": [
    "\n",
    "#                 ()\n",
    "#                 JL\n",
    "#                 ||\n",
    "#                 LJ\n",
    "#           _,--\"\"\"\"\"\"\"---.\n",
    "#         ,'               `.\n",
    "#        /                   \\\n",
    "#       J                     L\n",
    "#       F                     L\n",
    "#      J                      J\n",
    "#      |                      J\n",
    "#   ___L______________        J\n",
    "#  /,---------------. \"\".     J\n",
    "# JJ   /     \\/      |  J     J\n",
    "# LL  J      J       |   L    J\n",
    "# JJ  J #    J #     |   L    |\n",
    "#  \\\\__`.___,_`.____,'   F    |\n",
    "#   \"\"-.---------....___/     |\n",
    "#      |_T--+---+--.,._       |\n",
    "#        |--|----\\---\\-`.     |\n",
    "#        |__|____J___J_ F     F\n",
    "#       _|__|____|___|_/      L\n",
    "#      |                      L\n",
    "#      |____________________M-K\n"
   ]
  }
 ],
 "metadata": {
  "kernelspec": {
   "display_name": "Python 3.11.0 64-bit",
   "language": "python",
   "name": "python3"
  },
  "language_info": {
   "codemirror_mode": {
    "name": "ipython",
    "version": 3
   },
   "file_extension": ".py",
   "mimetype": "text/x-python",
   "name": "python",
   "nbconvert_exporter": "python",
   "pygments_lexer": "ipython3",
   "version": "3.11.0"
  },
  "orig_nbformat": 4,
  "vscode": {
   "interpreter": {
    "hash": "5d0b4253c7620fa0a0e327ec3980ef6fed1e54e2ff6f86da1deb0502198e7295"
   }
  }
 },
 "nbformat": 4,
 "nbformat_minor": 2
}
