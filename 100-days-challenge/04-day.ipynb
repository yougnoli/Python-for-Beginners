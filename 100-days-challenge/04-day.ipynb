{
 "cells": [
  {
   "cell_type": "markdown",
   "metadata": {},
   "source": [
    "## Random\n",
    "In Python la creazione di numeri casuali è il *Mersenne Twister* generator."
   ]
  },
  {
   "cell_type": "code",
   "execution_count": 1,
   "metadata": {},
   "outputs": [],
   "source": [
    "# importo il modulo random\n",
    "import random "
   ]
  },
  {
   "cell_type": "code",
   "execution_count": 6,
   "metadata": {},
   "outputs": [
    {
     "name": "stdout",
     "output_type": "stream",
     "text": [
      "9\n"
     ]
    }
   ],
   "source": [
    "# generare un numero intero compreso tra a e b\n",
    "random_integer = random.randint(1, 10)\n",
    "print(random_integer)"
   ]
  },
  {
   "cell_type": "markdown",
   "metadata": {},
   "source": [
    "I moduli sono pezzi di codice già creati da qualcuno che fanno qualcosa di specifico. Per esempio il modulo *random* permette di usare una serie di funzioni (che contengono del codice scritto da qualcuno) come per esempio la funzione randint() che genera un numero casuale. Invece di scrivere 20 righe di codice per generare un numero casuale, basta importare il modulo random e poi chiamare la funzione randint()."
   ]
  },
  {
   "cell_type": "code",
   "execution_count": 7,
   "metadata": {},
   "outputs": [
    {
     "name": "stdout",
     "output_type": "stream",
     "text": [
      "0.13619519880088227\n"
     ]
    }
   ],
   "source": [
    "# decimale random tra 0 e 1 (non compreso) \n",
    "random_float = random.random()\n",
    "print(random_float)"
   ]
  },
  {
   "cell_type": "code",
   "execution_count": 34,
   "metadata": {},
   "outputs": [
    {
     "name": "stdout",
     "output_type": "stream",
     "text": [
      "1.375177855008759\n"
     ]
    }
   ],
   "source": [
    "# numero decimale random tra 0 e 5\n",
    "random_float_0_5 = (random.randint(0, 5)) * (random.random())\n",
    "print(random_float_0_5)"
   ]
  },
  {
   "cell_type": "code",
   "execution_count": 35,
   "metadata": {},
   "outputs": [
    {
     "name": "stdout",
     "output_type": "stream",
     "text": [
      "Your love score is 83.\n"
     ]
    }
   ],
   "source": [
    "love_score = random.randint(1, 100)\n",
    "print(f\"Your love score is {love_score}.\")"
   ]
  },
  {
   "cell_type": "code",
   "execution_count": 40,
   "metadata": {},
   "outputs": [
    {
     "name": "stdout",
     "output_type": "stream",
     "text": [
      "You won! Your choice: H match the toss: H\n"
     ]
    }
   ],
   "source": [
    "# heads or tails program\n",
    "go = input('Type \"go\" to toss a coin! ')\n",
    "if go.lower() == 'go':\n",
    "    choice = input(\"What is your choice? H or T \")\n",
    "    if random.randint(0, 1) == 0:\n",
    "        coin = 'H'\n",
    "    else:\n",
    "        coin = 'T'\n",
    "    \n",
    "    if choice.upper() == coin:\n",
    "        print(f\"You won! Your choice: {choice.upper()} match the toss: {coin}\")\n",
    "    else:\n",
    "        print(f\"You lose! Your choice: {choice.upper()} do not match the toss: {coin}\")\n",
    "else:\n",
    "    print(\"I'm done playing!\")"
   ]
  },
  {
   "cell_type": "code",
   "execution_count": 45,
   "metadata": {},
   "outputs": [
    {
     "name": "stdout",
     "output_type": "stream",
     "text": [
      "Tails\n"
     ]
    }
   ],
   "source": [
    "# solution\n",
    "random_side = random.randint(0, 1)\n",
    "if random_side == 1:\n",
    "    print('Heads')\n",
    "elif random_side == 0:\n",
    "    print('Tails')"
   ]
  },
  {
   "cell_type": "markdown",
   "metadata": {},
   "source": [
    "## Liste\n",
    "E' una *data structure* dove è possibile storare dati. Per esempio non avrebbe senso storare in 50 variabili tutti gli stati degli USA. Ha senso invece creare una struttura che tenga tutte queste informazioni in un unico luogo => lista. Sarebbe anche utile che questo oggetto ricordi anche l'ordine di inserimento. Quindi se voglio storare i nomi di persone in coda al supermercato dentro un lista, queste sono in ordine di inserimento.\n",
    "Gli elementi della lista possono essere qualsiasi cosa. Sono separati dalle virgole e contenuti nelle [ ]."
   ]
  },
  {
   "cell_type": "code",
   "execution_count": 46,
   "metadata": {},
   "outputs": [
    {
     "name": "stdout",
     "output_type": "stream",
     "text": [
      "['item1', 'item2']\n"
     ]
    }
   ],
   "source": [
    "fruits = ['item1', 'item2']\n",
    "print(fruits)"
   ]
  },
  {
   "cell_type": "code",
   "execution_count": 47,
   "metadata": {},
   "outputs": [
    {
     "name": "stdout",
     "output_type": "stream",
     "text": [
      "['primo oggetto inserito', 'secondo oggetto inserito', 'terzo oggetto inserito']\n"
     ]
    }
   ],
   "source": [
    "# l'rdine di inseriemnto è ricordato:\n",
    "\n",
    "lista = ['primo oggetto inserito', 'secondo oggetto inserito', 'terzo oggetto inserito']\n",
    "print(lista)"
   ]
  },
  {
   "cell_type": "code",
   "execution_count": 50,
   "metadata": {},
   "outputs": [
    {
     "name": "stdout",
     "output_type": "stream",
     "text": [
      "primo oggetto inserito :é il primo elemento della lista.\n",
      "secondo oggetto inserito :é il secondo elemento della lista.\n",
      "terzo oggetto inserito :é il terzo elemento della lista.\n"
     ]
    }
   ],
   "source": [
    "# indicizzare gli elementi di una lista:\n",
    "print(lista[0], ':é il primo elemento della lista.')\n",
    "print(lista[1], ':é il secondo elemento della lista.')\n",
    "print(lista[2], ':é il terzo elemento della lista.')"
   ]
  },
  {
   "cell_type": "code",
   "execution_count": 51,
   "metadata": {},
   "outputs": [
    {
     "name": "stdout",
     "output_type": "stream",
     "text": [
      "primo oggetto inserito :é il primo elemento della lista.\n",
      "secondo oggetto inserito :é il secondo elemento della lista.\n",
      "terzo oggetto inserito :é il terzo elemento della lista.\n"
     ]
    }
   ],
   "source": [
    "# indicizzare con numeri negativi (dove l'ultimo elemento è il -1):\n",
    "print(lista[-3], ':é il primo elemento della lista.')\n",
    "print(lista[-2], ':é il secondo elemento della lista.')\n",
    "print(lista[-1], ':é il terzo elemento della lista.')"
   ]
  },
  {
   "cell_type": "code",
   "execution_count": 52,
   "metadata": {},
   "outputs": [
    {
     "name": "stdout",
     "output_type": "stream",
     "text": [
      "['primo oggetto inserito', 'secondo oggetto inserito', 'questo è il nuovo terzo oggetto inserito']\n"
     ]
    }
   ],
   "source": [
    "# attraverso l'indicizzazione posso anche cambiare un elemento della lista\n",
    "lista[2] = 'questo è il nuovo terzo oggetto inserito'\n",
    "print(lista)"
   ]
  },
  {
   "cell_type": "code",
   "execution_count": 53,
   "metadata": {},
   "outputs": [
    {
     "name": "stdout",
     "output_type": "stream",
     "text": [
      "['primo oggetto inserito', 'secondo oggetto inserito', 'questo è il nuovo terzo oggetto inserito', 'quarto oggetto inserito']\n"
     ]
    }
   ],
   "source": [
    "# aggiungere un SINGOLO elemento alla lista (in ultima posizione)\n",
    "lista.append(\"quarto oggetto inserito\")\n",
    "print(lista)"
   ]
  },
  {
   "cell_type": "code",
   "execution_count": 55,
   "metadata": {},
   "outputs": [
    {
     "name": "stdout",
     "output_type": "stream",
     "text": [
      "['primo oggetto inserito', 'secondo oggetto inserito', 'questo è il nuovo terzo oggetto inserito', 'quarto oggetto inserito', 1, 2, 3, 4]\n"
     ]
    }
   ],
   "source": [
    "# aggiungere gli elementi di una lista ad un'altra lista (tutti in un ultima posizione)\n",
    "lista_numeri = [1, 2, 3, 4]\n",
    "lista.extend(lista_numeri)\n",
    "print(lista)"
   ]
  },
  {
   "cell_type": "code",
   "execution_count": 82,
   "metadata": {},
   "outputs": [
    {
     "name": "stdout",
     "output_type": "stream",
     "text": [
      "Alessio is going to pay the meal today.\n"
     ]
    }
   ],
   "source": [
    "# challenge\n",
    "names_string = input(\"Give me everybody's name, separated by a comma. \")\n",
    "names = names_string.split(\", \")\n",
    "random_index = random.randint(0, len(names)-1)\n",
    "print(f\"{names[random_index]} is going to pay the meal today.\")"
   ]
  },
  {
   "cell_type": "code",
   "execution_count": 83,
   "metadata": {},
   "outputs": [
    {
     "name": "stdout",
     "output_type": "stream",
     "text": [
      "Giulia is going to pay the meal today.\n"
     ]
    }
   ],
   "source": [
    "# challenge\n",
    "names_string = input(\"Give me everybody's name, separated by a comma. \")\n",
    "names = names_string.split(\", \")\n",
    "name = random.choice(names)\n",
    "print(f\"{name} is going to pay the meal today.\")"
   ]
  },
  {
   "cell_type": "markdown",
   "metadata": {},
   "source": [
    "#### Liste Annidate"
   ]
  },
  {
   "cell_type": "code",
   "execution_count": 84,
   "metadata": {},
   "outputs": [
    {
     "name": "stdout",
     "output_type": "stream",
     "text": [
      "[['Strawberries', 'Nectarines', 'Apples', 'Grapes', 'Peaches', 'Cherries', 'Pears'], ['Spinach', 'Kale', 'Tomatoes', 'Celery', 'Potatoes']]\n"
     ]
    }
   ],
   "source": [
    "fruits = [\"Strawberries\", \"Nectarines\", \"Apples\", \"Grapes\", \"Peaches\", \"Cherries\", \"Pears\"]\n",
    "vegetables = [\"Spinach\", \"Kale\", \"Tomatoes\", \"Celery\", \"Potatoes\"]\n",
    "dirty_dozen = [fruits, vegetables]\n",
    "print(dirty_dozen)"
   ]
  },
  {
   "cell_type": "code",
   "execution_count": 86,
   "metadata": {},
   "outputs": [
    {
     "name": "stdout",
     "output_type": "stream",
     "text": [
      "['Strawberries', 'Nectarines', 'Apples', 'Grapes', 'Peaches', 'Cherries', 'Pears']\n",
      "['Spinach', 'Kale', 'Tomatoes', 'Celery', 'Potatoes']\n"
     ]
    }
   ],
   "source": [
    "print(dirty_dozen[0])\n",
    "print(dirty_dozen[1])"
   ]
  },
  {
   "cell_type": "code",
   "execution_count": 94,
   "metadata": {},
   "outputs": [
    {
     "name": "stdout",
     "output_type": "stream",
     "text": [
      "[' ', ' ', ' ']\n",
      "[' ', ' ', ' ']\n",
      "[' ', ' ', ' ']\n",
      "\n",
      "[' ', ' ', ' ']\n",
      "[' ', ' ', ' ']\n",
      "[' ', 'x', ' ']\n"
     ]
    }
   ],
   "source": [
    "# challenge\n",
    "row1 = [\" \", \" \", \" \"]\n",
    "row2 = [\" \", \" \", \" \"]\n",
    "row3 = [\" \", \" \", \" \"]\n",
    "map = [row1, row2, row3]\n",
    "print(f\"{row1}\\n{row2}\\n{row3}\")\n",
    "\n",
    "position = input(\"Where do you want to put the treasure? \")\n",
    "\n",
    "column = int(position[0]) - 1\n",
    "row = int(position[-1]) - 1\n",
    "\n",
    "map[row][column] = 'x'\n",
    "\n",
    "print()\n",
    "print(f\"{row1}\\n{row2}\\n{row3}\")"
   ]
  },
  {
   "cell_type": "code",
   "execution_count": 109,
   "metadata": {},
   "outputs": [
    {
     "name": "stdout",
     "output_type": "stream",
     "text": [
      "  \n",
      "    _______\n",
      "---'   ____)\n",
      "      (_____)\n",
      "      (_____)\n",
      "      (____)\n",
      "---.__(___)\n",
      "\n",
      "\n",
      "Computer chose:\n",
      "\n",
      "\n",
      "    _______\n",
      "---'   ____)____\n",
      "          ______)\n",
      "       __________)\n",
      "      (____)\n",
      "---.__(___)\n",
      "\n",
      "You Win!\n"
     ]
    }
   ],
   "source": [
    "# challenge\n",
    "my_choice = int(input(\"What do you choose? Type 0 for Rock, 1 for Paper or 2 for Scissors.\"))\n",
    "computer_choice = random.randint(0, 2)\n",
    "\n",
    "rock = \"\"\"  \n",
    "    _______\n",
    "---'   ____)\n",
    "      (_____)\n",
    "      (_____)\n",
    "      (____)\n",
    "---.__(___)\n",
    "\"\"\"\n",
    "\n",
    "paper = \"\"\"\n",
    "    _______\n",
    "---'   ____)____\n",
    "          ______)\n",
    "          _______)\n",
    "         _______)\n",
    "---.__________)\n",
    "\"\"\"\n",
    "\n",
    "scissors = \"\"\"\n",
    "    _______\n",
    "---'   ____)____\n",
    "          ______)\n",
    "       __________)\n",
    "      (____)\n",
    "---.__(___)\n",
    "\"\"\"\n",
    "\n",
    "games_images = [rock, paper, scissors]\n",
    "\n",
    "if my_choice >= 3 or my_choice < 0:\n",
    "    print(\"You typed an invalid number. You lose!\")\n",
    "else:\n",
    "    print(games_images[my_choice])\n",
    "    print(\"\\nComputer chose:\\n\")\n",
    "    print(games_images[computer_choice])\n",
    "\n",
    "    if computer_choice == my_choice:\n",
    "        print('You Draw!')\n",
    "    elif my_choice == 2 and computer_choice == 0:\n",
    "        print(\"You Lose!\")\n",
    "    elif my_choice > computer_choice:\n",
    "        print(\"You Win!\")\n",
    "    elif my_choice == 0 and computer_choice == 2:\n",
    "        print(\"You Win!\")\n",
    "    else:\n",
    "        print(\"You Lose!\")"
   ]
  }
 ],
 "metadata": {
  "kernelspec": {
   "display_name": "Python 3.11.0 64-bit",
   "language": "python",
   "name": "python3"
  },
  "language_info": {
   "codemirror_mode": {
    "name": "ipython",
    "version": 3
   },
   "file_extension": ".py",
   "mimetype": "text/x-python",
   "name": "python",
   "nbconvert_exporter": "python",
   "pygments_lexer": "ipython3",
   "version": "3.11.0"
  },
  "orig_nbformat": 4,
  "vscode": {
   "interpreter": {
    "hash": "5d0b4253c7620fa0a0e327ec3980ef6fed1e54e2ff6f86da1deb0502198e7295"
   }
  }
 },
 "nbformat": 4,
 "nbformat_minor": 2
}
