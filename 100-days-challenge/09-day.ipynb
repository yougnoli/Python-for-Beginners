{
 "cells": [
  {
   "cell_type": "markdown",
   "metadata": {},
   "source": [
    "#### Dizionari\n",
    "Sono molto simili ai dizionari nella vita reale: se cerco una parola nel dizionario, questo mi dirà il suo significato.\n",
    "\n",
    "Ogni dizionario è diviso in 2 parti: a sinistra c'è la **key** (l'equivalente di una parola nel dizionario) e a destra c'è il **value** (la definizione della parola)."
   ]
  },
  {
   "cell_type": "code",
   "execution_count": 11,
   "metadata": {},
   "outputs": [
    {
     "data": {
      "text/plain": [
       "{'Bug': 'An error in a program that prevents the program from running as expected.'}"
      ]
     },
     "execution_count": 11,
     "metadata": {},
     "output_type": "execute_result"
    }
   ],
   "source": [
    "# dict\n",
    "# {key:value}\n",
    "\n",
    "{\"Bug\":\"An error in a program that prevents the program from running as expected.\"}"
   ]
  },
  {
   "cell_type": "markdown",
   "metadata": {},
   "source": [
    "E' possibile inserire in un dizionario più di una coppia **key:value** separandole con le virgole."
   ]
  },
  {
   "cell_type": "code",
   "execution_count": 12,
   "metadata": {},
   "outputs": [
    {
     "data": {
      "text/plain": [
       "{'Bug': 'An error in a program that prevents the program from running as expected.',\n",
       " 'Function': 'A piece of code that you can easily call over and over again.',\n",
       " 'Loop': 'The action of doing something over and over again.'}"
      ]
     },
     "execution_count": 12,
     "metadata": {},
     "output_type": "execute_result"
    }
   ],
   "source": [
    "{\n",
    "    \"Bug\":\"An error in a program that prevents the program from running as expected.\"\n",
    "    ,\"Function\":\"A piece of code that you can easily call over and over again.\"\n",
    "    ,\"Loop\":\"The action of doing something over and over again.\"\n",
    "}"
   ]
  },
  {
   "cell_type": "code",
   "execution_count": 13,
   "metadata": {},
   "outputs": [],
   "source": [
    "# spesso si usa questa formattazione: è più semplice da vedere\n",
    "programming_dictionary = {\n",
    "    \"Bug\":\"An error in a program that prevents the program from running as expected.\"\n",
    "    ,\"Function\":\"A piece of code that you can easily call over and over again.\"\n",
    "    ,\"Loop\":\"The action of doing something over and over again.\"\n",
    "}"
   ]
  },
  {
   "cell_type": "code",
   "execution_count": 14,
   "metadata": {},
   "outputs": [
    {
     "name": "stdout",
     "output_type": "stream",
     "text": [
      "An error in a program that prevents the program from running as expected.\n"
     ]
    }
   ],
   "source": [
    "# prendere un'informazione da un dizionario -> si usa la key (NON come nelle liste che si usa l'INDEX)\n",
    "print(programming_dictionary[\"Bug\"])"
   ]
  },
  {
   "cell_type": "code",
   "execution_count": 15,
   "metadata": {},
   "outputs": [
    {
     "name": "stdout",
     "output_type": "stream",
     "text": [
      "{'Bug': 'An error in a program that prevents the program from running as expected.', 'Function': 'A piece of code that you can easily call over and over again.', 'Loop': 'The action of doing something over and over again.'}\n"
     ]
    }
   ],
   "source": [
    "# aggiungere un nuovo elemento\n",
    "programming_dictionary = {\n",
    "    \"Bug\":\"An error in a program that prevents the program from running as expected.\"\n",
    "    ,\"Function\":\"A piece of code that you can easily call over and over again.\"\n",
    "}\n",
    "\n",
    "programming_dictionary[\"Loop\"] = \"The action of doing something over and over again.\"\n",
    "\n",
    "print(programming_dictionary)"
   ]
  },
  {
   "cell_type": "code",
   "execution_count": 16,
   "metadata": {},
   "outputs": [
    {
     "name": "stdout",
     "output_type": "stream",
     "text": [
      "{'key1': 'Value1'}\n"
     ]
    }
   ],
   "source": [
    "# aggiungere un elemento a un dizionario vuoto:\n",
    "empty_dict = {}\n",
    "empty_dict[\"key1\"] = \"Value1\"\n",
    "\n",
    "print(empty_dict)"
   ]
  },
  {
   "cell_type": "code",
   "execution_count": 17,
   "metadata": {},
   "outputs": [
    {
     "name": "stdout",
     "output_type": "stream",
     "text": [
      "{'Bug': 'An error in a program that prevents the program from running as expected.', 'Function': 'A piece of code that you can easily call over and over again.', 'Loop': 'The action of doing something over and over again.'}\n",
      "{'Bug': 'An error in a program that prevents the program from running as expected.', 'Function': 'A piece of code that you can easily call over and over again.', 'Loop': 'The action of doing something over and over again.'}\n"
     ]
    }
   ],
   "source": [
    "# pulire immediatamente un dizionario:\n",
    "print(programming_dictionary)\n",
    "prgramming_dictionary = {}\n",
    "print(programming_dictionary)"
   ]
  },
  {
   "cell_type": "code",
   "execution_count": 19,
   "metadata": {},
   "outputs": [
    {
     "name": "stdout",
     "output_type": "stream",
     "text": [
      "{'Bug': 'A moth in your computer', 'Function': 'A piece of code that you can easily call over and over again.'}\n"
     ]
    }
   ],
   "source": [
    "# modificare un elemento in un dizionario (ridefinire un valore). Se non trova quella chiave (per modificarne il valore) allora ne crea una nuova.\n",
    "programming_dictionary = {\n",
    "    \"Bug\":\"An error in a program that prevents the program from running as expected.\"\n",
    "    ,\"Function\":\"A piece of code that you can easily call over and over again.\"\n",
    "}\n",
    "\n",
    "programming_dictionary[\"Bug\"] = \"A moth in your computer\"\n",
    "print(programming_dictionary)"
   ]
  },
  {
   "cell_type": "code",
   "execution_count": 25,
   "metadata": {},
   "outputs": [
    {
     "name": "stdout",
     "output_type": "stream",
     "text": [
      "Bug\n",
      "A moth in your computer\n",
      "'Bug':'A moth in your computer'\n",
      "Function\n",
      "A piece of code that you can easily call over and over again.\n",
      "'Function':'A piece of code that you can easily call over and over again.'\n"
     ]
    }
   ],
   "source": [
    "# loop in un dizionario con un for: itera sulle CHIAVI\n",
    "for key in programming_dictionary:\n",
    "    print(key)\n",
    "    print(programming_dictionary[key])\n",
    "    print(f\"'{key}'\", f\"'{programming_dictionary[key]}'\", sep=':')"
   ]
  },
  {
   "cell_type": "code",
   "execution_count": 29,
   "metadata": {},
   "outputs": [
    {
     "name": "stdout",
     "output_type": "stream",
     "text": [
      "{'Harry': 'Exceeds Expectations', 'Ron': 'Acceptable', 'Hermione': 'Outstanding', 'Draco': 'Acceptable', 'Neville': 'Fail'}\n"
     ]
    }
   ],
   "source": [
    "#project 1\n",
    "\n",
    "score = {\n",
    "    \"Harry\":81\n",
    "    ,\"Ron\":78\n",
    "    ,\"Hermione\":99\n",
    "    ,\"Draco\":74\n",
    "    ,\"Neville\":62\n",
    "}\n",
    "\n",
    "# programma che trasformi i voti in criteri di valutazione dentro un altro dizionario\n",
    "student_grades = {}\n",
    "for key in score:\n",
    "    if score[key] >= 91:\n",
    "        student_grades[key] = \"Outstanding\"\n",
    "    elif score[key] >= 81:\n",
    "        student_grades[key] = \"Exceeds Expectations\"\n",
    "    elif score[key] >= 71:\n",
    "        student_grades[key] = \"Acceptable\"\n",
    "    else:\n",
    "        student_grades[key] = \"Fail\"\n",
    "\n",
    "\n",
    "print(student_grades)"
   ]
  },
  {
   "cell_type": "markdown",
   "metadata": {},
   "source": [
    "#### Nesting\n",
    "Mettere un dizionario o una lista uno dentro l'altro."
   ]
  },
  {
   "cell_type": "code",
   "execution_count": 34,
   "metadata": {},
   "outputs": [],
   "source": [
    "# {\n",
    "#     \"Key1\":[List],\n",
    "#     \"Key2\":{Dict}\n",
    "# }\n",
    "\n",
    "# dict\n",
    "capitals = {\n",
    "    \"France\":\"Paris\"\n",
    "    ,\"Germany\":\"Berlin\"\n",
    "}\n",
    "\n",
    "# list in dict\n",
    "travel_vlog = {\n",
    "    \"France\":[\"Paris\", \"Lille\", \"Dijon\"]\n",
    "    ,\"Germany\":[\"Berlin\", \"Hamburg\", \"Stuttgart\"]\n",
    "}\n",
    "\n",
    "# dict in dict\n",
    "travel_vlog = {\n",
    "    \"France\":{\n",
    "        \"cities_visited\":[\"Paris\", \"Lille\", \"Dijon\"]\n",
    "        ,\"total_visits\":12\n",
    "        }\n",
    "    ,\"Germany\":{\n",
    "        \"cities_visited\":[\"Berlin\", \"Hamburg\", \"Stuttgart\"]\n",
    "        ,\"total_visits\":5\n",
    "        }\n",
    "}\n",
    "\n",
    "# dict in list (ricorda che le liste sono ORDINATE)\n",
    "travel_vlog = [\n",
    "        {\n",
    "        \"country\":\"France\"\n",
    "        ,\"cities_visited\":[\"Paris\", \"Lille\", \"Dijon\"]\n",
    "        ,\"total_visits\":12\n",
    "        },\n",
    "        {\n",
    "        \"country\":\"Germany\"\n",
    "        ,\"cities_visited\":[\"Berlin\", \"Hamburg\", \"Stuttgart\"]\n",
    "        ,\"total_visits\":5\n",
    "        }\n",
    "]\n",
    "# ora ho una lista di 2 dizionari. Ogni dizionario ha 3 coppie di chiave:valore. Il valore è una string, una lista e un intero.\n"
   ]
  },
  {
   "cell_type": "code",
   "execution_count": 38,
   "metadata": {},
   "outputs": [
    {
     "name": "stdout",
     "output_type": "stream",
     "text": [
      "{'country': 'France', 'cities_visited': ['Paris', 'Lille', 'Dijon'], 'total_visits': 12}\n",
      "{'country': 'Germany', 'cities_visited': ['Berlin', 'Hamburg', 'Stuttgart'], 'total_visits': 5}\n",
      "{'country': 'Russia', 'cities_visited': ['Moscow', 'Saint Petersburg'], 'total_visits': 2}\n"
     ]
    }
   ],
   "source": [
    "# project 2\n",
    "travel_vlog = [\n",
    "        {\n",
    "        \"country\":\"France\"\n",
    "        ,\"cities_visited\":[\"Paris\", \"Lille\", \"Dijon\"]\n",
    "        ,\"total_visits\":12\n",
    "        },\n",
    "        {\n",
    "        \"country\":\"Germany\"\n",
    "        ,\"cities_visited\":[\"Berlin\", \"Hamburg\", \"Stuttgart\"]\n",
    "        ,\"total_visits\":5\n",
    "        }\n",
    "]\n",
    "\n",
    "# crea una funzione che aggiunga alla lista di dizionari del travel_vlog nuovi paesi visitati. Non deve essere modificata la lista che contiene i dizionari.\n",
    "def add_new_country(country, total_visits, cities_visited):\n",
    "    new_country = {}\n",
    "    new_country[\"country\"] = country\n",
    "    new_country[\"cities_visited\"] = cities_visited\n",
    "    new_country[\"total_visits\"] = total_visits\n",
    "    travel_vlog.append(new_country)\n",
    "\n",
    "\n",
    "add_new_country(\"Russia\", 2, [\"Moscow\", \"Saint Petersburg\"])\n",
    "# print(travel_vlog)\n",
    "for dict in travel_vlog:\n",
    "    print(dict)"
   ]
  },
  {
   "cell_type": "code",
   "execution_count": 53,
   "metadata": {},
   "outputs": [
    {
     "name": "stdout",
     "output_type": "stream",
     "text": [
      "\u001b[H\u001b[2J\u001b[H\u001b[2J\u001b[H\u001b[2JThe winner is Francesco with a bid of $100\n"
     ]
    }
   ],
   "source": [
    "# final project:\n",
    "from replit import clear\n",
    "\n",
    "bidding = True\n",
    "bids = []\n",
    "while bidding:\n",
    "\n",
    "    name = input(\"What is your name?: \")\n",
    "    bid = int(input(\"What is your bid?: $\"))\n",
    "    bidders = {}\n",
    "    bidders[\"name\"] = name\n",
    "    bidders[\"bid\"] = bid\n",
    "    bids.append(bidders)\n",
    "    ask = input(\"Are there any bidders?: Type 'yes' or 'no'. \")\n",
    "    if ask == 'no':\n",
    "        bidding = False\n",
    "    clear()\n",
    "\n",
    "bid = 0\n",
    "for dict in bids:\n",
    "    if dict[\"bid\"] > bid:\n",
    "        bid = dict[\"bid\"]\n",
    "        winner = dict[\"name\"]\n",
    "        \n",
    "print(f'The winner is {winner} with a bid of ${bid}')"
   ]
  },
  {
   "cell_type": "code",
   "execution_count": 54,
   "metadata": {},
   "outputs": [
    {
     "name": "stdout",
     "output_type": "stream",
     "text": [
      "[{'name': 'Alessio', 'bid': 0}, {'name': 'Francesco', 'bid': 100}, {'name': 'Giulia', 'bid': 50}]\n"
     ]
    }
   ],
   "source": [
    "print(bids)"
   ]
  },
  {
   "cell_type": "code",
   "execution_count": 57,
   "metadata": {},
   "outputs": [
    {
     "name": "stdout",
     "output_type": "stream",
     "text": [
      "\u001b[H\u001b[2J\u001b[H\u001b[2JThe winner is Alessio with a bid of $100.\n"
     ]
    }
   ],
   "source": [
    "# final project 2:\n",
    "from replit import clear\n",
    "\n",
    "bidding = True\n",
    "bids = {}\n",
    "\n",
    "def find_highest_bidder(bids):\n",
    "    highest_value = 0\n",
    "    for key in bids:\n",
    "        if bids[key] > highest_value:\n",
    "            highest_value = bids[key]\n",
    "            winner = key\n",
    "    print(f\"The winner is {winner} with a bid of ${highest_value}.\")\n",
    "\n",
    "\n",
    "while bidding:\n",
    "\n",
    "    name = input(\"What is your name?: \")\n",
    "    bid = int(input(\"What is your bid?: $\"))\n",
    "    bids[name] = bid\n",
    "    ask = input(\"Are there any bidders?: Type 'yes' or 'no'. \")\n",
    "    if ask == 'no':\n",
    "        bidding = False\n",
    "    clear()\n",
    "\n",
    "find_highest_bidder(bids)"
   ]
  },
  {
   "cell_type": "code",
   "execution_count": 59,
   "metadata": {},
   "outputs": [
    {
     "name": "stdout",
     "output_type": "stream",
     "text": [
      "{'Alessio': 100, 'Giulia': 50}\n"
     ]
    }
   ],
   "source": [
    "print(bids)"
   ]
  }
 ],
 "metadata": {
  "kernelspec": {
   "display_name": "Python 3.11.0 64-bit",
   "language": "python",
   "name": "python3"
  },
  "language_info": {
   "codemirror_mode": {
    "name": "ipython",
    "version": 3
   },
   "file_extension": ".py",
   "mimetype": "text/x-python",
   "name": "python",
   "nbconvert_exporter": "python",
   "pygments_lexer": "ipython3",
   "version": "3.11.0"
  },
  "orig_nbformat": 4,
  "vscode": {
   "interpreter": {
    "hash": "5238573367df39f7286bb46f9ff5f08f63a01a80960060ce41e3c79b190280fa"
   }
  }
 },
 "nbformat": 4,
 "nbformat_minor": 2
}
