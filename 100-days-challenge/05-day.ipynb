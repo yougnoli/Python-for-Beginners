{
 "cells": [
  {
   "cell_type": "markdown",
   "metadata": {},
   "source": [
    "## Loops"
   ]
  },
  {
   "cell_type": "markdown",
   "metadata": {},
   "source": [
    "#### For Loop\n",
    "Può essere usato molto comodamente con le liste. Compie un'azione per ogni elemento al loro interno."
   ]
  },
  {
   "cell_type": "code",
   "execution_count": 1,
   "metadata": {},
   "outputs": [
    {
     "name": "stdout",
     "output_type": "stream",
     "text": [
      "Apple\n",
      "Peach\n",
      "Pear\n"
     ]
    }
   ],
   "source": [
    "fruits = [\"Apple\", \"Peach\", \"Pear\"]\n",
    "for fruit in fruits:\n",
    "    print(fruit)\n",
    "\n",
    "# dietro le quinte sta assegnando ad ogni elemento della lista, il nome fruit. => fruits = [fruit, fruit, fruit]"
   ]
  },
  {
   "cell_type": "code",
   "execution_count": 2,
   "metadata": {},
   "outputs": [
    {
     "name": "stdout",
     "output_type": "stream",
     "text": [
      "Apple\n",
      "Apple Pie\n",
      "Peach\n",
      "Peach Pie\n",
      "Pear\n",
      "Pear Pie\n"
     ]
    }
   ],
   "source": [
    "fruits = [\"Apple\", \"Peach\", \"Pear\"]\n",
    "for fruit in fruits:\n",
    "    print(fruit)\n",
    "    print(fruit + \" Pie\")\n",
    "\n",
    "# ogni volta che ci sono i :, c'è un'indentazione. Quello che succede dentro l'indentazione viene ripetuto per il numero di elementi della lista."
   ]
  },
  {
   "cell_type": "code",
   "execution_count": 4,
   "metadata": {},
   "outputs": [
    {
     "name": "stdout",
     "output_type": "stream",
     "text": [
      "Apple\n",
      "Apple Pie\n",
      "['Apple', 'Peach', 'Pear']\n",
      "Peach\n",
      "Peach Pie\n",
      "['Apple', 'Peach', 'Pear']\n",
      "Pear\n",
      "Pear Pie\n",
      "['Apple', 'Peach', 'Pear']\n"
     ]
    }
   ],
   "source": [
    "fruits = [\"Apple\", \"Peach\", \"Pear\"]\n",
    "for fruit in fruits:\n",
    "    print(fruit)\n",
    "    print(fruit + \" Pie\")\n",
    "    print(fruits)    # dentro al loop: ripetuto per n volte, quanti sono gli elementi."
   ]
  },
  {
   "cell_type": "code",
   "execution_count": 6,
   "metadata": {},
   "outputs": [
    {
     "name": "stdout",
     "output_type": "stream",
     "text": [
      "Apple\n",
      "Apple Pie\n",
      "Peach\n",
      "Peach Pie\n",
      "Pear\n",
      "Pear Pie\n",
      "['Apple', 'Peach', 'Pear']\n"
     ]
    }
   ],
   "source": [
    "fruits = [\"Apple\", \"Peach\", \"Pear\"]\n",
    "for fruit in fruits:\n",
    "    print(fruit)\n",
    "    print(fruit + \" Pie\")\n",
    "print(fruits)    # fuori dal loop 1 volta sola."
   ]
  },
  {
   "cell_type": "code",
   "execution_count": 9,
   "metadata": {},
   "outputs": [
    {
     "name": "stdout",
     "output_type": "stream",
     "text": [
      "[180, 124, 165, 173, 189, 169, 146]\n",
      "Average height rounded to nearest whole number = 164\n"
     ]
    }
   ],
   "source": [
    "# calcolare la media di numeri in una lista ( senza usare  sum() o len() ):\n",
    "\n",
    "student_heights = input(\"Input a list of student heights \").split()\n",
    "for n in range(0, len(student_heights)):\n",
    "    student_heights[n] = int(student_heights[n])\n",
    "print(student_heights)\n",
    "\n",
    "tot_heights = 0\n",
    "for height in student_heights:\n",
    "    tot_heights += height\n",
    "\n",
    "n_students = 0\n",
    "for student in student_heights:\n",
    "    n_students += 1\n",
    "\n",
    "average_height = tot_heights / n_students \n",
    "\n",
    "print(f\"Average height rounded to nearest whole number = {round(average_height)}\")"
   ]
  },
  {
   "cell_type": "code",
   "execution_count": 15,
   "metadata": {},
   "outputs": [
    {
     "name": "stdout",
     "output_type": "stream",
     "text": [
      "[189, 198, 120, 156, 134, 167, 190, 190]\n",
      "The highest height is: 198\n"
     ]
    }
   ],
   "source": [
    "# calcolare il massimo di numeri in una lista ( senza usare  max() ):\n",
    "\n",
    "student_heights = input(\"Input a list of student heights \").split()\n",
    "for n in range(0, len(student_heights)):\n",
    "    student_heights[n] = int(student_heights[n])\n",
    "print(student_heights)\n",
    "\n",
    "highest_height = 0\n",
    "for height in student_heights:\n",
    "    if height > highest_height:\n",
    "        highest_height = height\n",
    "\n",
    "print(f\"The highest height is: {highest_height}\")"
   ]
  },
  {
   "cell_type": "markdown",
   "metadata": {},
   "source": [
    "#### Funzione range()\n",
    "Non itero su una lista ma su un range di numeri."
   ]
  },
  {
   "cell_type": "code",
   "execution_count": 17,
   "metadata": {},
   "outputs": [
    {
     "name": "stdout",
     "output_type": "stream",
     "text": [
      "1\n",
      "2\n",
      "3\n",
      "4\n",
      "5\n",
      "6\n",
      "7\n",
      "8\n",
      "9\n"
     ]
    }
   ],
   "source": [
    "for number in range(1, 10):    # 10 non incluso\n",
    "    print(number)"
   ]
  },
  {
   "cell_type": "code",
   "execution_count": 18,
   "metadata": {},
   "outputs": [
    {
     "name": "stdout",
     "output_type": "stream",
     "text": [
      "1\n",
      "4\n",
      "7\n"
     ]
    }
   ],
   "source": [
    "for number in range(1, 10, 3):    # numeri di step da un numero all'altro\n",
    "    print(number)"
   ]
  },
  {
   "cell_type": "code",
   "execution_count": 21,
   "metadata": {},
   "outputs": [
    {
     "name": "stdout",
     "output_type": "stream",
     "text": [
      "5050\n"
     ]
    }
   ],
   "source": [
    "# calcolo di Gauss (sommare i numeri da 1 a 100)\n",
    "total = 0\n",
    "for number in range(1, 101):\n",
    "    total += number\n",
    "\n",
    "print(total)"
   ]
  },
  {
   "cell_type": "code",
   "execution_count": 25,
   "metadata": {},
   "outputs": [
    {
     "name": "stdout",
     "output_type": "stream",
     "text": [
      "2550\n"
     ]
    }
   ],
   "source": [
    "# sommare i numeri pari da 0 a 100:\n",
    "total_even = 0\n",
    "for number in range(0, 101, 2):\n",
    "    total_even += number\n",
    "\n",
    "print(total_even)"
   ]
  },
  {
   "cell_type": "code",
   "execution_count": 29,
   "metadata": {},
   "outputs": [
    {
     "name": "stdout",
     "output_type": "stream",
     "text": [
      "2550\n"
     ]
    }
   ],
   "source": [
    "# sommare i numeri pari da 0 a 100:\n",
    "total_even = 0\n",
    "for number in range(0, 101):\n",
    "    if not (number % 2):\n",
    "        total_even += number\n",
    "\n",
    "print(total_even)"
   ]
  },
  {
   "cell_type": "code",
   "execution_count": 32,
   "metadata": {},
   "outputs": [
    {
     "name": "stdout",
     "output_type": "stream",
     "text": [
      "FizzBuzz\n",
      "1\n",
      "2\n",
      "Fizz\n",
      "4\n",
      "Buzz\n",
      "Fizz\n",
      "7\n",
      "8\n",
      "Fizz\n",
      "Buzz\n",
      "11\n",
      "Fizz\n",
      "13\n",
      "14\n",
      "FizzBuzz\n"
     ]
    }
   ],
   "source": [
    "# FizzBuzz\n",
    "for n in range(0, 16):\n",
    "    if (n % 3 == 0) and (n % 5 == 0):\n",
    "        print(\"FizzBuzz\")\n",
    "    elif n % 3 == 0:\n",
    "        print(\"Fizz\")\n",
    "    elif n % 5 == 0:\n",
    "        print(\"Buzz\")\n",
    "    else:\n",
    "        print(n) "
   ]
  },
  {
   "cell_type": "code",
   "execution_count": 11,
   "metadata": {},
   "outputs": [
    {
     "name": "stdout",
     "output_type": "stream",
     "text": [
      "Welcome to password generator!\n",
      "Inital password was: 'BbF327+))', now it is: ')F7B3)+2b'\n"
     ]
    }
   ],
   "source": [
    "# final project: generare una password\n",
    "import random\n",
    "\n",
    "letters = ['a', 'b', 'c', 'd', 'e', 'f', 'g', 'h', 'i', 'j', 'k', 'l', 'm', 'n', 'o', 'p', 'q', 'r', 's', 't', 'u', 'v', 'w', 'x', 'y', 'z']\n",
    "upper_letters = [letter.upper() for letter in letters]\n",
    "\n",
    "letters.extend(upper_letters)\n",
    "numbers = [str(n) for n in range(0, 10)]\n",
    "symbols = ['!', '#', '$', '%', '&', '(', ')', '*', '+', '-', '/']\n",
    "\n",
    "print(\"Welcome to password generator!\")\n",
    "psw = '' # stringa vuota\n",
    "\n",
    "n_letters = int(input(\"How many letters would you like in your password? \"))  \n",
    "for n in range(1, n_letters+1):\n",
    "    psw += random.choice(letters) # letters[random.randint(0, len(letters)-1)]\n",
    "\n",
    "n_numbers = int(input(\"How many numbers would you like in your password? \")) \n",
    "for n in range(1, n_numbers+1):\n",
    "    psw += random.choice(numbers) # numbers[random.randint(0, len(numbers)-1)]\n",
    "\n",
    "n_symbols = int(input(\"How many symbols would you like in your password? \")) \n",
    "for n in range(1, n_symbols+1):\n",
    "    psw += random.choice(symbols) # symbols[random.randint(0, len(symbols)-1)]\n",
    "# ho composto la stringa, ora voglio mescolarla\n",
    "\n",
    "l_carachters = [c for c in psw] # voglio salvare i caratteri tutti in una lista\n",
    "\n",
    "random.shuffle(l_carachters) # mescolo gli elementi al suo interno\n",
    "\n",
    "psw_final = ''\n",
    "for c in l_carachters:\n",
    "    psw_final += c\n",
    "\n",
    "# print(l_carachters)\n",
    "print(f\"Inital password was: '{psw}', now it is: '{psw_final}'\")"
   ]
  }
 ],
 "metadata": {
  "kernelspec": {
   "display_name": "Python 3.11.0 64-bit",
   "language": "python",
   "name": "python3"
  },
  "language_info": {
   "codemirror_mode": {
    "name": "ipython",
    "version": 3
   },
   "file_extension": ".py",
   "mimetype": "text/x-python",
   "name": "python",
   "nbconvert_exporter": "python",
   "pygments_lexer": "ipython3",
   "version": "3.11.0"
  },
  "orig_nbformat": 4,
  "vscode": {
   "interpreter": {
    "hash": "5d0b4253c7620fa0a0e327ec3980ef6fed1e54e2ff6f86da1deb0502198e7295"
   }
  }
 },
 "nbformat": 4,
 "nbformat_minor": 2
}
